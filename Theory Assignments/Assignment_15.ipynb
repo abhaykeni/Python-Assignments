{
 "cells": [
  {
   "cell_type": "markdown",
   "id": "b13b3d43",
   "metadata": {},
   "source": [
    "# Theory_Assignment 15"
   ]
  },
  {
   "cell_type": "markdown",
   "id": "4d534ba5",
   "metadata": {},
   "source": [
    "# Questions\n",
    "\n",
    "1. How many seconds are in an hour? Use the interactive interpreter as a calculator and multiply the number of seconds in a minute (60) by the number of minutes in an hour (also 60).\n",
    "\n",
    "2. Assign the result from the previous task (seconds in an hour) to a variable called seconds_per_hour.\n",
    "\n",
    "3. How many seconds do you think there are in a day? Make use of the variables seconds per hour and minutes per hour.\n",
    "\n",
    "4. Calculate seconds per day again, but this time save the result in a variable called seconds_per_day\n",
    "\n",
    "5. Divide seconds_per_day by seconds_per_hour. Use floating-point (/) division.\n",
    "\n",
    "6. Divide seconds_per_day by seconds_per_hour, using integer (//) division. Did this number agree with the floating-point value from the previous question, aside from the final .0?\n",
    "\n",
    "7. Write a generator, genPrimes, that returns the sequence of prime numbers on successive calls to its next() method: 2, 3, 5, 7, 11, ...\n",
    "\n"
   ]
  },
  {
   "cell_type": "code",
   "execution_count": 33,
   "id": "ca99df89",
   "metadata": {},
   "outputs": [
    {
     "name": "stdout",
     "output_type": "stream",
     "text": [
      "Number of seconds in a minute: 60\n",
      "Number of seconds in an hour: 3600\n"
     ]
    }
   ],
   "source": [
    "# Solution 1\n",
    "seconds = 1\n",
    "minute = 60 * seconds\n",
    "hour = 60 * minute\n",
    "print(\"Number of seconds in a minute:\",minute)\n",
    "print(\"Number of seconds in an hour:\", hour)"
   ]
  },
  {
   "cell_type": "code",
   "execution_count": 5,
   "id": "6b0935a1",
   "metadata": {},
   "outputs": [
    {
     "name": "stdout",
     "output_type": "stream",
     "text": [
      "Seconds per hour: 3600\n"
     ]
    }
   ],
   "source": [
    "# Solution 2\n",
    "seconds_per_hour = hour\n",
    "print(\"Seconds per hour:\",seconds_per_hour)"
   ]
  },
  {
   "cell_type": "code",
   "execution_count": 12,
   "id": "b8df9caf",
   "metadata": {},
   "outputs": [
    {
     "name": "stdout",
     "output_type": "stream",
     "text": [
      "Minutes per hour: 60\n",
      "Minutes in a day: 1440\n"
     ]
    }
   ],
   "source": [
    "#Solution 3\n",
    "minutes_per_hour = int(seconds_per_hour/60)\n",
    "print(\"Minutes per hour:\",minutes_per_hour)\n",
    "\n",
    "minutes_per_day = 24 * minutes_per_hour\n",
    "print(\"Minutes in a day:\",minutes_per_day)"
   ]
  },
  {
   "cell_type": "code",
   "execution_count": 11,
   "id": "b8cc3ed6",
   "metadata": {},
   "outputs": [
    {
     "name": "stdout",
     "output_type": "stream",
     "text": [
      "Seconds in a day: 86400\n"
     ]
    }
   ],
   "source": [
    "#Solution - 4\n",
    "seconds_per_day = 24 * seconds_per_hour\n",
    "print(\"Seconds in a day:\",seconds_per_day)"
   ]
  },
  {
   "cell_type": "code",
   "execution_count": 13,
   "id": "5d68918e",
   "metadata": {},
   "outputs": [
    {
     "name": "stdout",
     "output_type": "stream",
     "text": [
      "24.0\n"
     ]
    }
   ],
   "source": [
    "#Solution 5\n",
    "print(seconds_per_day/seconds_per_hour)"
   ]
  },
  {
   "cell_type": "code",
   "execution_count": 14,
   "id": "5b51d16d",
   "metadata": {},
   "outputs": [
    {
     "name": "stdout",
     "output_type": "stream",
     "text": [
      "24\n"
     ]
    }
   ],
   "source": [
    "#Solution 6\n",
    "print(seconds_per_day//seconds_per_hour)"
   ]
  },
  {
   "cell_type": "code",
   "execution_count": 34,
   "id": "4a1d7a68",
   "metadata": {},
   "outputs": [
    {
     "name": "stdout",
     "output_type": "stream",
     "text": [
      "2\n",
      "3\n",
      "5\n",
      "7\n",
      "11\n"
     ]
    }
   ],
   "source": [
    "#Solution 7\n",
    "def genPrime(limit):\n",
    "    for i in range(2, int(limit)):\n",
    "        for x in range(2, i + 1):\n",
    "            if (i==x):\n",
    "                yield i\n",
    "                break\n",
    "            if (i % x==0):\n",
    "                break\n",
    "x = genPrime(100)\n",
    "print(next(x))\n",
    "print(next(x))\n",
    "print(next(x))\n",
    "print(next(x))\n",
    "print(next(x))"
   ]
  }
 ],
 "metadata": {
  "kernelspec": {
   "display_name": "Python 3 (ipykernel)",
   "language": "python",
   "name": "python3"
  },
  "language_info": {
   "codemirror_mode": {
    "name": "ipython",
    "version": 3
   },
   "file_extension": ".py",
   "mimetype": "text/x-python",
   "name": "python",
   "nbconvert_exporter": "python",
   "pygments_lexer": "ipython3",
   "version": "3.9.12"
  }
 },
 "nbformat": 4,
 "nbformat_minor": 5
}
