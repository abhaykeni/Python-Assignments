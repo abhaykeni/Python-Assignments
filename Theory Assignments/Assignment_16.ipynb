{
 "cells": [
  {
   "cell_type": "markdown",
   "id": "af6d7001",
   "metadata": {},
   "source": [
    "# Theory_Assignment 16"
   ]
  },
  {
   "cell_type": "markdown",
   "id": "54197c64",
   "metadata": {},
   "source": [
    "# Question\n",
    "\n",
    "1. Create a list called years_list, starting with the year of your birth, and each year thereafter until the year of your fifth birthday. For example, if you were born in 1980. the list would be years_list = [1980, 1981, 1982, 1983, 1984, 1985].\n",
    "2. In which year in years_list was your third birthday? Remember, you were 0 years of age for your first year.\n",
    "3. In the years list, which year were you the oldest?\n",
    "4. Make a list called things with these three strings as elements: \"mozzarella\", \"cinderella\", \"salmonella\".\n",
    "5. Capitalize the element in things that refers to a person and then print the list. Did it change the element in the list?\n",
    "6. Make a surprise list with the elements \"Groucho,\" \"Chico,\" and \"Harpo.\"\n",
    "7. Lowercase the last element of the surprise list, reverse it, and then capitalize it.\n",
    "8. Make an English-to-French dictionary called e2f and print it. Here are your starter words: dog is chien, cat is chat, and walrus is morse.\n",
    "9. Write the French word for walrus in your three-word dictionary e2f.\n",
    "10. Make a French-to-English dictionary called f2e from e2f. Use the items method.\n",
    "11. Print the English version of the French word chien using f2e.\n",
    "12. Make and print a set of English words from the keys in e2f.\n",
    "13. Make a multilevel dictionary called life. Use these strings for the topmost keys: 'animals', 'plants', and 'other'. Make the 'animals' key refer to another dictionary with the keys 'cats', 'octopi', and 'emus'. Make the 'cats' key refer to a list of strings with the values 'Henri', 'Grumpy', and 'Lucy'. Make all the other keys refer to empty dictionaries.\n",
    "14. Print the top-level keys of life.\n",
    "15. Print the keys for life['animals'].\n",
    "16. Print the values for life['animals']['cats']"
   ]
  },
  {
   "cell_type": "code",
   "execution_count": 6,
   "id": "1fa68acf",
   "metadata": {},
   "outputs": [],
   "source": [
    "#Solution 1\n",
    "years_list = [1996, 1997, 1998, 1999, 2000, 2001]"
   ]
  },
  {
   "cell_type": "code",
   "execution_count": 4,
   "id": "cb21465c",
   "metadata": {},
   "outputs": [
    {
     "name": "stdout",
     "output_type": "stream",
     "text": [
      "Third Birthday: 1999\n"
     ]
    }
   ],
   "source": [
    "#Solution 2\n",
    "print(\"Third Birthday:\",years_list[3])"
   ]
  },
  {
   "cell_type": "code",
   "execution_count": 5,
   "id": "b08b7ed0",
   "metadata": {},
   "outputs": [
    {
     "name": "stdout",
     "output_type": "stream",
     "text": [
      "Year I was the oldest: 2001\n"
     ]
    }
   ],
   "source": [
    "#Solution 3\n",
    "print(\"Year I was the oldest:\", max(years_list))"
   ]
  },
  {
   "cell_type": "code",
   "execution_count": 7,
   "id": "1842ed3d",
   "metadata": {},
   "outputs": [],
   "source": [
    "#Solution 4\n",
    "things = [\"mozzarella\", \"cinderella\", \"salmonella\"]"
   ]
  },
  {
   "cell_type": "code",
   "execution_count": 14,
   "id": "2661ea64",
   "metadata": {},
   "outputs": [
    {
     "name": "stdout",
     "output_type": "stream",
     "text": [
      "Cinderella\n",
      "['mozzarella', 'Cinderella', 'salmonella']\n",
      "['mozzarella', 'Cinderella', 'salmonella']\n"
     ]
    }
   ],
   "source": [
    "#Solution 5\n",
    "print(things[1].capitalize()) # Expression will not make any changes in the list\n",
    "print(things)\n",
    "things[1] = things[1].capitalize() # Expression to change element in the list\n",
    "print(things)"
   ]
  },
  {
   "cell_type": "code",
   "execution_count": 15,
   "id": "8cba9718",
   "metadata": {},
   "outputs": [],
   "source": [
    "#Solution 6\n",
    "surprise = [\"Groucho\",\"Chico\",\"Harpo\"]"
   ]
  },
  {
   "cell_type": "code",
   "execution_count": 21,
   "id": "21604824",
   "metadata": {},
   "outputs": [
    {
     "name": "stdout",
     "output_type": "stream",
     "text": [
      "Oprah\n"
     ]
    }
   ],
   "source": [
    "#Solution 7\n",
    "surprise[-1] = surprise[-1].lower()\n",
    "surprise[-1] = surprise[-1][::-1]\n",
    "surprise[-1] = surprise[-1].capitalize()\n",
    "\n",
    "print(surprise[-1])"
   ]
  },
  {
   "cell_type": "code",
   "execution_count": 26,
   "id": "c45e9791",
   "metadata": {},
   "outputs": [],
   "source": [
    "#Solution 8\n",
    "etf = {\"dog\":\"chien\",\"cat\":\"chat\",\"walrus\":\"morse\"}"
   ]
  },
  {
   "cell_type": "code",
   "execution_count": 27,
   "id": "d0465cd0",
   "metadata": {},
   "outputs": [
    {
     "name": "stdout",
     "output_type": "stream",
     "text": [
      "French word for walrus: morse\n"
     ]
    }
   ],
   "source": [
    "#Solution 9\n",
    "print(\"French word for walrus:\",etf[\"walrus\"])"
   ]
  },
  {
   "cell_type": "code",
   "execution_count": 45,
   "id": "1d040e19",
   "metadata": {},
   "outputs": [
    {
     "name": "stdout",
     "output_type": "stream",
     "text": [
      "French to English Dictionary: {'chien': 'dog', 'chat': 'cat', 'morse': 'walrus'}\n"
     ]
    }
   ],
   "source": [
    "#Solution 10\n",
    "f2e = {}\n",
    "for i in list(etf.items()):\n",
    "    for x in range(0,len(i)):\n",
    "        f2e[i[1]] = i[0]\n",
    "print(\"French to English Dictionary:\",f2e)"
   ]
  },
  {
   "cell_type": "code",
   "execution_count": 48,
   "id": "97ddeb06",
   "metadata": {},
   "outputs": [
    {
     "name": "stdout",
     "output_type": "stream",
     "text": [
      "English word for chien: dog\n"
     ]
    }
   ],
   "source": [
    "#Solution 11\n",
    "print(\"English word for chien:\",f2e[\"chien\"])"
   ]
  },
  {
   "cell_type": "code",
   "execution_count": 50,
   "id": "bee8a0b8",
   "metadata": {},
   "outputs": [
    {
     "name": "stdout",
     "output_type": "stream",
     "text": [
      "French word for dog is: chien\n",
      "French word for cat is: chat\n",
      "French word for walrus is: morse\n"
     ]
    }
   ],
   "source": [
    "#Solution 12\n",
    "for i in etf.keys():\n",
    "    print(f\"French word for {i} is: {etf[i]}\")"
   ]
  },
  {
   "cell_type": "code",
   "execution_count": 51,
   "id": "367fd560",
   "metadata": {},
   "outputs": [],
   "source": [
    "#Solution 13\n",
    "life = {'animals':{\"cats\":['Henri', 'Grumpy','Lucy'],\"octopi\":{},\"emus\":{}},'plants':{},'others':{}}"
   ]
  },
  {
   "cell_type": "code",
   "execution_count": 52,
   "id": "30c65edb",
   "metadata": {},
   "outputs": [
    {
     "name": "stdout",
     "output_type": "stream",
     "text": [
      "dict_keys(['animals', 'plants', 'others'])\n"
     ]
    }
   ],
   "source": [
    "#Solution 14\n",
    "print(life.keys())"
   ]
  },
  {
   "cell_type": "code",
   "execution_count": 53,
   "id": "7112679d",
   "metadata": {},
   "outputs": [
    {
     "name": "stdout",
     "output_type": "stream",
     "text": [
      "dict_keys(['cats', 'octopi', 'emus'])\n"
     ]
    }
   ],
   "source": [
    "#Solution 15\n",
    "print(life[\"animals\"].keys())"
   ]
  },
  {
   "cell_type": "code",
   "execution_count": 56,
   "id": "91efdea8",
   "metadata": {},
   "outputs": [
    {
     "name": "stdout",
     "output_type": "stream",
     "text": [
      "['Henri', 'Grumpy', 'Lucy']\n"
     ]
    }
   ],
   "source": [
    "#Solution 16\n",
    "print(life['animals']['cats'])"
   ]
  }
 ],
 "metadata": {
  "kernelspec": {
   "display_name": "Python 3 (ipykernel)",
   "language": "python",
   "name": "python3"
  },
  "language_info": {
   "codemirror_mode": {
    "name": "ipython",
    "version": 3
   },
   "file_extension": ".py",
   "mimetype": "text/x-python",
   "name": "python",
   "nbconvert_exporter": "python",
   "pygments_lexer": "ipython3",
   "version": "3.9.12"
  }
 },
 "nbformat": 4,
 "nbformat_minor": 5
}
