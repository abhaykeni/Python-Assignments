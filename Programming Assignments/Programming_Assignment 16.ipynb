{
 "cells": [
  {
   "cell_type": "markdown",
   "id": "35a9a292",
   "metadata": {},
   "source": [
    "# Programming_Assignment 16"
   ]
  },
  {
   "cell_type": "markdown",
   "id": "82c2b6f0",
   "metadata": {},
   "source": [
    "# Question1. \n",
    "\n",
    "Write a function that stutters a word as if someone is struggling to read it. The first two letters are repeated twice with an ellipsis ... and space after each, and then the word is pronounced with a question mark ?.\n",
    "\n",
    "Examples\n",
    "\n",
    "stutter(\"incredible\") ➞ \"in... in... incredible?\"\n",
    "\n",
    "stutter(\"enthusiastic\") ➞ \"en... en... enthusiastic?\"\n",
    "\n",
    "stutter(\"outstanding\") ➞ \"ou... ou... outstanding?\"\n",
    "\n",
    "Hint :- Assume all input is in lower case and at least two characters long.\n"
   ]
  },
  {
   "cell_type": "code",
   "execution_count": 3,
   "id": "627e6eb7",
   "metadata": {},
   "outputs": [
    {
     "name": "stdout",
     "output_type": "stream",
     "text": [
      "Stutter:incredible\n",
      "in ..  in ...  incredible ?\n"
     ]
    }
   ],
   "source": [
    "strings = input(\"Stutter:\")\n",
    "st = strings[:2:]\n",
    "print(st,\".. \",st,\"... \",strings,\"?\")"
   ]
  },
  {
   "cell_type": "markdown",
   "id": "0fa0acd8",
   "metadata": {},
   "source": [
    "# Question 2.\n",
    "\n",
    "Create a function that takes an angle in radians and returns the corresponding angle in degrees rounded to one decimal place.\n",
    "Examples\n",
    "radians_to_degrees(1) ➞ 57.3\n",
    "\n",
    "radians_to_degrees(20) ➞ 1145.9\n",
    "\n",
    "radians_to_degrees(50) ➞ 2864.8\n"
   ]
  },
  {
   "cell_type": "code",
   "execution_count": 5,
   "id": "e3b86ac1",
   "metadata": {},
   "outputs": [
    {
     "name": "stdout",
     "output_type": "stream",
     "text": [
      "Radian:20\n",
      "Degrees: 1145.97\n"
     ]
    }
   ],
   "source": [
    "def degrees(rad):\n",
    "    deg = 57.2985 * rad\n",
    "    return deg\n",
    "\n",
    "rad = float(input(\"Radian:\"))\n",
    "deg = degrees(rad)\n",
    "print(\"Degrees:\",deg)"
   ]
  },
  {
   "cell_type": "markdown",
   "id": "d5cae65f",
   "metadata": {},
   "source": [
    "# Question 3. \n",
    "\n",
    "In this challenge, establish if a given integer num is a Curzon number. If 1 plus 2 elevated to num is exactly divisible by 1 plus 2 multiplied by num, then num is a Curzon number.\n",
    "\n",
    "Given a non-negative integer num, implement a function that returns True if num is a Curzon number, or False otherwise.\n",
    "Examples\n",
    "is_curzon(5) ➞ True\n",
    "\n",
    "2 ** 5 + 1 = 33\n",
    "2 * 5 + 1 = 11\n",
    "33 is a multiple of 11\n",
    "\n",
    "is_curzon(10) ➞ False\n",
    "2 ** 10 + 1 = 1025\n",
    "2 * 10 + 1 = 21\n",
    "1025 is not a multiple of 21\n",
    "\n",
    "is_curzon(14) ➞ True\n",
    "2 ** 14 + 1 = 16385\n",
    "2 * 14 + 1 = 29\n",
    "16385 is a multiple of 29\n"
   ]
  },
  {
   "cell_type": "code",
   "execution_count": 8,
   "id": "de857e56",
   "metadata": {},
   "outputs": [
    {
     "name": "stdout",
     "output_type": "stream",
     "text": [
      "Number:14\n",
      "True\n"
     ]
    }
   ],
   "source": [
    "num = int(input(\"Number:\"))\n",
    "\n",
    "def check(num):\n",
    "    if ((pow(2,num)+1)%(2*num + 1)==0):\n",
    "        return(True)\n",
    "    else:\n",
    "        return(False)\n",
    "\n",
    "print(check(num))"
   ]
  },
  {
   "cell_type": "markdown",
   "id": "b4ef153a",
   "metadata": {},
   "source": [
    "# Question 4.\n",
    "\n",
    "Given the side length x find the area of a hexagon.\n",
    " \n",
    "Examples\n",
    "area_of_hexagon(1) ➞ 2.6\n",
    "\n",
    "area_of_hexagon(2) ➞ 10.4\n",
    "\n",
    "area_of_hexagon(3) ➞ 23.4\n",
    "\n"
   ]
  },
  {
   "cell_type": "code",
   "execution_count": 1,
   "id": "a11ac997",
   "metadata": {},
   "outputs": [
    {
     "name": "stdout",
     "output_type": "stream",
     "text": [
      "Length:3\n",
      "Area: 23.382685902179844\n"
     ]
    }
   ],
   "source": [
    "length = int(input(\"Length:\"))\n",
    "\n",
    "def hexa(length):\n",
    "    area = 1.5*pow(3,0.5)*length*length\n",
    "    return(area)\n",
    "print(\"Area:\",hexa(length))    "
   ]
  },
  {
   "cell_type": "markdown",
   "id": "65146127",
   "metadata": {},
   "source": [
    "# Question 5. \n",
    "\n",
    "Create a function that returns a base-2 (binary) representation of a base-10 (decimal) string number. \n",
    "\n",
    "To convert is simple: ((2) means base-2 and (10) means base-10) 010101001(2) = 1 + 8 + 32 + 128.\n",
    "\n",
    "Going from right to left, the value of the most right bit is 1, now from that every bit to the left will be x2 the value, value of an 8 bit binary numbers are (256, 128, 64, 32, 16, 8, 4, 2, 1).\n",
    "\n",
    "Examples\n",
    "binary(1) ➞ \"1\"\n",
    " 1*1 = 1\n",
    "\n",
    "binary(5) ➞ \"101\"\n",
    " 1*1 + 1*4 = 5\n",
    "\n",
    "binary(10) ➞ \"1010\"\n",
    " 1*2 + 1*8 = 10\n"
   ]
  },
  {
   "cell_type": "code",
   "execution_count": 2,
   "id": "ec72f2b9",
   "metadata": {},
   "outputs": [
    {
     "name": "stdout",
     "output_type": "stream",
     "text": [
      "1\n",
      "5\n",
      "10\n"
     ]
    }
   ],
   "source": [
    "def binaryToDecimal(binary):\n",
    " \n",
    "    decimal, i = 0, 0\n",
    "    while(binary != 0):\n",
    "        dec = binary % 10\n",
    "        decimal = decimal + dec * pow(2, i)\n",
    "        binary = binary//10\n",
    "        i += 1\n",
    "    print(decimal)\n",
    "    \n",
    "binaryToDecimal(1)\n",
    "binaryToDecimal(101)\n",
    "binaryToDecimal(1010)"
   ]
  },
  {
   "cell_type": "code",
   "execution_count": null,
   "id": "598bc5ee",
   "metadata": {},
   "outputs": [],
   "source": []
  }
 ],
 "metadata": {
  "kernelspec": {
   "display_name": "Python 3 (ipykernel)",
   "language": "python",
   "name": "python3"
  },
  "language_info": {
   "codemirror_mode": {
    "name": "ipython",
    "version": 3
   },
   "file_extension": ".py",
   "mimetype": "text/x-python",
   "name": "python",
   "nbconvert_exporter": "python",
   "pygments_lexer": "ipython3",
   "version": "3.9.12"
  }
 },
 "nbformat": 4,
 "nbformat_minor": 5
}
