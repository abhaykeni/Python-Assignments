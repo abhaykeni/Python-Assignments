{
 "cells": [
  {
   "cell_type": "markdown",
   "id": "7034135b",
   "metadata": {},
   "source": [
    "# Programming_Assignment 11"
   ]
  },
  {
   "cell_type": "markdown",
   "id": "9beef243",
   "metadata": {},
   "source": [
    "1.\tWrite a Python program to find words which are greater than given length k?\n",
    "2.\tWrite a Python program for removing i-th character from a string?\n",
    "3.\tWrite a Python program to split and join a string?\n",
    "4.\tWrite a Python to check if a given string is binary string or not?\n",
    "5.\tWrite a Python program to find uncommon words from two Strings?\n",
    "6.\tWrite a Python to find all duplicate characters in string?\n",
    "7.\tWrite a Python Program to check if a string contains any special character?"
   ]
  },
  {
   "cell_type": "code",
   "execution_count": 9,
   "id": "6c015c99",
   "metadata": {},
   "outputs": [
    {
     "name": "stdout",
     "output_type": "stream",
     "text": [
      "Threshold:5\n",
      "['Python', 'program', 'greater', 'length']\n"
     ]
    }
   ],
   "source": [
    "#Solution 1\n",
    "string = \"Write a Python program to find words which are greater than given length k?\"\n",
    "lists = string.split()\n",
    "k = int(input(\"Threshold:\"))\n",
    "l=[]\n",
    "for i in lists:\n",
    "    if len(i)>k:\n",
    "        l.append(i)\n",
    "print(l)"
   ]
  },
  {
   "cell_type": "code",
   "execution_count": 23,
   "id": "fe2d6546",
   "metadata": {},
   "outputs": [
    {
     "name": "stdout",
     "output_type": "stream",
     "text": [
      "Element to be removed:1\n",
      "Wite a Python program\n"
     ]
    }
   ],
   "source": [
    "#Solution 2\n",
    "string = \"Write a Python program\"\n",
    "k = int(input(\"Element to be removed:\"))\n",
    "new_str = \"\"\n",
    "count = 0\n",
    "for i in range(0,len(string)):\n",
    "    if i != k:\n",
    "        new_str = new_str + string[i]\n",
    "        \n",
    "print(new_str)"
   ]
  },
  {
   "cell_type": "code",
   "execution_count": 17,
   "id": "8712b03b",
   "metadata": {},
   "outputs": [
    {
     "name": "stdout",
     "output_type": "stream",
     "text": [
      "Split String: ['Write', 'a', 'Python', 'program', 'to', 'split', 'and', 'join', 'a', 'string?']\n",
      "Joint String: Write a Python program to split and join a string?\n"
     ]
    }
   ],
   "source": [
    "#Solution 3\n",
    "string = \"Write a Python program to split and join a string?\"\n",
    "split = string.split()\n",
    "print(\"Split String:\",split)\n",
    "join = \" \".join(split)\n",
    "print(\"Joint String:\",join)"
   ]
  },
  {
   "cell_type": "code",
   "execution_count": 25,
   "id": "59d0360b",
   "metadata": {},
   "outputs": [
    {
     "name": "stdout",
     "output_type": "stream",
     "text": [
      "StringA is a binary string.\n"
     ]
    }
   ],
   "source": [
    "#Solution 4\n",
    "\n",
    "stringA = '0110101010111'\n",
    "b = {'0','1'}\n",
    "t = set(stringA)\n",
    "\n",
    "if b == t or t == {'0'} or t == {'1'}:\n",
    "    print(\"StringA is a binary string.\")\n",
    "else:\n",
    "    print(\"StringA is not a binary string.\")"
   ]
  },
  {
   "cell_type": "code",
   "execution_count": 18,
   "id": "4bca1192",
   "metadata": {},
   "outputs": [
    {
     "name": "stdout",
     "output_type": "stream",
     "text": [
      "Uncommon Word: {'s', 'e', 'i'}\n"
     ]
    }
   ],
   "source": [
    "#Solution 5\n",
    "string1 = \"hillo\"\n",
    "string2 = \"hellos\"\n",
    "\n",
    "set1 = list(set(string1))\n",
    "set2 = list(set(string2))\n",
    "\n",
    "l = []\n",
    "for x in range(0,len(set1)):\n",
    "    count = 0\n",
    "    for y in range(0,len(set2)):\n",
    "        if set1[x] == set2[y]:\n",
    "            count = count + 1\n",
    "            continue\n",
    "    if(count == 0):\n",
    "        l.append(set1[x])\n",
    "for x in range(0,len(set2)):\n",
    "    count = 0\n",
    "    for y in range(0,len(set1)):\n",
    "        if set2[x] == set1[y]:\n",
    "            count = count + 1\n",
    "            continue\n",
    "    if(count == 0):\n",
    "        l.append(set2[x])\n",
    "print(\"Uncommon Word:\",set(l))"
   ]
  },
  {
   "cell_type": "code",
   "execution_count": 31,
   "id": "d0c0abb1",
   "metadata": {},
   "outputs": [
    {
     "name": "stdout",
     "output_type": "stream",
     "text": [
      "Number of occurunces of i is 5\n",
      "Number of occurunces of P is 1\n",
      "Number of occurunces of e is 3\n",
      "Number of occurunces of u is 1\n",
      "Number of occurunces of l is 3\n",
      "Number of occurunces of   is 9\n",
      "Number of occurunces of t is 6\n",
      "Number of occurunces of n is 4\n",
      "Number of occurunces of p is 1\n",
      "Number of occurunces of s is 2\n",
      "Number of occurunces of d is 2\n",
      "Number of occurunces of o is 2\n",
      "Number of occurunces of f is 1\n",
      "Number of occurunces of r is 4\n",
      "Number of occurunces of ? is 1\n",
      "Number of occurunces of a is 5\n",
      "Number of occurunces of g is 1\n",
      "Number of occurunces of h is 2\n",
      "Number of occurunces of c is 3\n",
      "Number of occurunces of W is 1\n",
      "Number of occurunces of y is 1\n"
     ]
    }
   ],
   "source": [
    "#Solution 6\n",
    "\n",
    "string = \"Write a Python to find all duplicate characters in string?\"\n",
    "sets = set(string)\n",
    "\n",
    "for i in sets:\n",
    "    count = 0\n",
    "    for x in range(0,len(string)):\n",
    "        if(i == string[x]):\n",
    "            count = count + 1\n",
    "    print(f\"Number of occurunces of {i} is {count}\")\n"
   ]
  },
  {
   "cell_type": "code",
   "execution_count": 4,
   "id": "62a5252b",
   "metadata": {},
   "outputs": [
    {
     "name": "stdout",
     "output_type": "stream",
     "text": [
      "Hello15@#$\n",
      "String contains special characters\n"
     ]
    }
   ],
   "source": [
    "import re\n",
    "\n",
    "def find(string):\n",
    "    special_char=re.compile('[@_!$%^&*()<>?/\\|}{~:]#')\n",
    "    \n",
    "    if special_char.search(string) == None:\n",
    "        return \"String does not contain special characters\"\n",
    "    else:\n",
    "        return \"String contains special characters\"\n",
    "    \n",
    "string = \"abhay@#$\"\n",
    "print(s)\n",
    "print(find(s))"
   ]
  },
  {
   "cell_type": "code",
   "execution_count": null,
   "id": "e5bf9d26",
   "metadata": {},
   "outputs": [],
   "source": []
  }
 ],
 "metadata": {
  "kernelspec": {
   "display_name": "Python 3 (ipykernel)",
   "language": "python",
   "name": "python3"
  },
  "language_info": {
   "codemirror_mode": {
    "name": "ipython",
    "version": 3
   },
   "file_extension": ".py",
   "mimetype": "text/x-python",
   "name": "python",
   "nbconvert_exporter": "python",
   "pygments_lexer": "ipython3",
   "version": "3.9.12"
  }
 },
 "nbformat": 4,
 "nbformat_minor": 5
}
