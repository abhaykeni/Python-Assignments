{
 "cells": [
  {
   "cell_type": "markdown",
   "id": "3b306614",
   "metadata": {},
   "source": [
    "# Programming_Assignment 2"
   ]
  },
  {
   "cell_type": "markdown",
   "id": "fe246521",
   "metadata": {},
   "source": [
    "1.\tWrite a Python program to convert kilometers to miles?\n",
    "2.\tWrite a Python program to convert Celsius to Fahrenheit?\n",
    "3.\tWrite a Python program to display calendar?\n",
    "4.\tWrite a Python program to solve quadratic equation?\n",
    "5.\tWrite a Python program to swap two variables without temp variable?"
   ]
  },
  {
   "cell_type": "code",
   "execution_count": 1,
   "id": "b87e7c17",
   "metadata": {},
   "outputs": [
    {
     "name": "stdout",
     "output_type": "stream",
     "text": [
      "Provide distance in kilometers:10\n",
      "Distance in miles: 6.21371\n"
     ]
    }
   ],
   "source": [
    "#Solution 1 \n",
    "distance = int(input(\"Provide distance in kilometers:\"))\n",
    "miles = 0.621371 * distance\n",
    "\n",
    "print(\"Distance in miles:\",miles)"
   ]
  },
  {
   "cell_type": "code",
   "execution_count": 3,
   "id": "06dc6168",
   "metadata": {},
   "outputs": [
    {
     "name": "stdout",
     "output_type": "stream",
     "text": [
      "Provide temperature in celsius:1\n",
      "Temperature in farheneit: 33.8\n"
     ]
    }
   ],
   "source": [
    "#Solution 2 \n",
    "temperature = int(input(\"Provide temperature in celsius:\"))\n",
    "far = (temperature *(9/5)) + 32 \n",
    "\n",
    "print(\"Temperature in farheneit:\",far)"
   ]
  },
  {
   "cell_type": "code",
   "execution_count": 5,
   "id": "bf0536a6",
   "metadata": {},
   "outputs": [
    {
     "name": "stdout",
     "output_type": "stream",
     "text": [
      "Enter year: 2023\n",
      "Enter month: 4\n",
      "\n",
      "     April 2023\n",
      "Mo Tu We Th Fr Sa Su\n",
      "                1  2\n",
      " 3  4  5  6  7  8  9\n",
      "10 11 12 13 14 15 16\n",
      "17 18 19 20 21 22 23\n",
      "24 25 26 27 28 29 30\n",
      "\n"
     ]
    }
   ],
   "source": [
    "#Solution 3\n",
    "import calendar\n",
    "\n",
    "yy = int(input(\"Enter year: \"))\n",
    "mm = int(input(\"Enter month: \"))\n",
    "print()\n",
    "# display the calendar\n",
    "print(calendar.month(yy, mm))"
   ]
  },
  {
   "cell_type": "code",
   "execution_count": 7,
   "id": "cfb43af4",
   "metadata": {},
   "outputs": [
    {
     "name": "stdout",
     "output_type": "stream",
     "text": [
      "Coefficeint of 2nd degree power:1\n",
      "Coeff of 1st degree power:5\n",
      "Constant value:6\n",
      "1st Root: -2.0\n",
      "2nd Root: -3.0\n"
     ]
    }
   ],
   "source": [
    "#Solution 4\n",
    "x2 = int(input(\"Coefficeint of 2nd degree power:\"))\n",
    "x = int(input(\"Coeff of 1st degree power:\"))\n",
    "c = int(input(\"Constant value:\"))\n",
    "\n",
    "b = x * (-1)\n",
    "a2 = 2*x2\n",
    "val = pow(x,2) - 4 * x2 * c\n",
    "\n",
    "print(\"1st Root:\", ((b+val)/a2))\n",
    "print(\"2nd Root:\",((b-val)/a2))"
   ]
  },
  {
   "cell_type": "code",
   "execution_count": 9,
   "id": "a4bb8692",
   "metadata": {},
   "outputs": [
    {
     "name": "stdout",
     "output_type": "stream",
     "text": [
      "Variable 1:2\n",
      "Variable 2:3\n",
      "########## Result ##########\n",
      "Variable 1: 3\n",
      "Variable 2: 2\n"
     ]
    }
   ],
   "source": [
    "#Solution 5\n",
    "\n",
    "a = input(\"Variable 1:\")\n",
    "b = input(\"Variable 2:\")\n",
    "\n",
    "a,b = b,a\n",
    "\n",
    "print(\"#\"*10,\"Result\",\"#\"*10)\n",
    "print(\"Variable 1:\",a)\n",
    "print(\"Variable 2:\",b)"
   ]
  },
  {
   "cell_type": "code",
   "execution_count": null,
   "id": "67b002a2",
   "metadata": {},
   "outputs": [],
   "source": []
  }
 ],
 "metadata": {
  "kernelspec": {
   "display_name": "Python 3 (ipykernel)",
   "language": "python",
   "name": "python3"
  },
  "language_info": {
   "codemirror_mode": {
    "name": "ipython",
    "version": 3
   },
   "file_extension": ".py",
   "mimetype": "text/x-python",
   "name": "python",
   "nbconvert_exporter": "python",
   "pygments_lexer": "ipython3",
   "version": "3.9.12"
  }
 },
 "nbformat": 4,
 "nbformat_minor": 5
}
