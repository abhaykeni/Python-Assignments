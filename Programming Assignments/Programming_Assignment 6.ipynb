{
 "cells": [
  {
   "cell_type": "markdown",
   "id": "fd28196b",
   "metadata": {},
   "source": [
    "# Programming_Assignment 6"
   ]
  },
  {
   "cell_type": "markdown",
   "id": "44231a6e",
   "metadata": {},
   "source": [
    "1.\tWrite a Python Program to Display Fibonacci Sequence Using Recursion?\n",
    "2.\tWrite a Python Program to Find Factorial of Number Using Recursion?\n",
    "3.\tWrite a Python Program to calculate your Body Mass Index?\n",
    "4.\tWrite a Python Program to calculate the natural logarithm of any number?\n",
    "5.\tWrite a Python Program for cube sum of first n natural numbers?"
   ]
  },
  {
   "cell_type": "code",
   "execution_count": null,
   "id": "db6bd6ff",
   "metadata": {},
   "outputs": [],
   "source": [
    "#Solution 1\n",
    "\n",
    "def recur_fibo(n):\n",
    "    if n <= 1:\n",
    "        return n\n",
    "    else:\n",
    "        return(recur_fibo(n-1) + recur_fibo(n-2))\n",
    "\n",
    "nterms = 10\n",
    "\n",
    "# check if the number of terms is valid\n",
    "if nterms <= 0:\n",
    "    print(\"Plese enter a positive integer\")\n",
    "else:\n",
    "    print(\"Fibonacci sequence:\")\n",
    "    for i in range(nterms):\n",
    "        print(recur_fibo(i))"
   ]
  },
  {
   "cell_type": "code",
   "execution_count": 2,
   "id": "6c56645e",
   "metadata": {},
   "outputs": [
    {
     "name": "stdout",
     "output_type": "stream",
     "text": [
      "The factorial of 5 is 120\n"
     ]
    }
   ],
   "source": [
    "#Solution 2\n",
    "\n",
    "def recur_factorial(n):\n",
    "    if n == 1:\n",
    "        return n\n",
    "    else:\n",
    "        return n*recur_factorial(n-1)\n",
    "\n",
    "num = 5\n",
    "\n",
    "# check if the number is negative\n",
    "if num < 0:\n",
    "    print(\"Sorry, factorial does not exist for negative numbers\")\n",
    "elif num == 0:\n",
    "    print(\"The factorial of 0 is 1\")\n",
    "else:\n",
    "    print(\"The factorial of\", num, \"is\", recur_factorial(num))"
   ]
  },
  {
   "cell_type": "code",
   "execution_count": 4,
   "id": "0ea39350",
   "metadata": {},
   "outputs": [
    {
     "name": "stdout",
     "output_type": "stream",
     "text": [
      "Weight in Kgs:80\n",
      "Height in meters:1.82\n",
      "BMI: 24.151672503320853\n"
     ]
    }
   ],
   "source": [
    "#Solution 3\n",
    "\n",
    "weight = int(input(\"Weight in Kgs:\"))\n",
    "height = float(input(\"Height in meters:\"))\n",
    "\n",
    "bmi = weight/(height*height)\n",
    "print(\"BMI:\",bmi)\n"
   ]
  },
  {
   "cell_type": "code",
   "execution_count": 8,
   "id": "d98d6a54",
   "metadata": {},
   "outputs": [
    {
     "name": "stdout",
     "output_type": "stream",
     "text": [
      "Number:5\n",
      "Log value:  1.6094379124341003\n"
     ]
    }
   ],
   "source": [
    "# Solution 4\n",
    "import math   \n",
    "\n",
    "num = int(input(\"Number:\"))\n",
    "\n",
    "print(\"Log value: \", math.log(num))"
   ]
  },
  {
   "cell_type": "code",
   "execution_count": 10,
   "id": "3281a10a",
   "metadata": {},
   "outputs": [
    {
     "name": "stdout",
     "output_type": "stream",
     "text": [
      "Limit of Cube of Sum for Natural Numbers:10\n",
      "Sum of n=10 is 3025\n"
     ]
    }
   ],
   "source": [
    "num = int(input(\"Limit of Cube of Sum for Natural Numbers:\"))\n",
    "sum = 0\n",
    "for i in range(1,num+1):\n",
    "    sum += pow(i,3)\n",
    "    \n",
    "print(f\"Sum of n={num} is {sum}\")"
   ]
  },
  {
   "cell_type": "code",
   "execution_count": null,
   "id": "37af70ce",
   "metadata": {},
   "outputs": [],
   "source": []
  }
 ],
 "metadata": {
  "kernelspec": {
   "display_name": "Python 3 (ipykernel)",
   "language": "python",
   "name": "python3"
  },
  "language_info": {
   "codemirror_mode": {
    "name": "ipython",
    "version": 3
   },
   "file_extension": ".py",
   "mimetype": "text/x-python",
   "name": "python",
   "nbconvert_exporter": "python",
   "pygments_lexer": "ipython3",
   "version": "3.9.12"
  }
 },
 "nbformat": 4,
 "nbformat_minor": 5
}
