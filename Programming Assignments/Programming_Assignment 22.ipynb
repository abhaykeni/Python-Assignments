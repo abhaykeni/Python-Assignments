{
 "cells": [
  {
   "cell_type": "markdown",
   "id": "fe9166e9",
   "metadata": {},
   "source": [
    "# Programming_Assignment 22"
   ]
  },
  {
   "cell_type": "markdown",
   "id": "6cccfc8f",
   "metadata": {},
   "source": [
    "# Question1\n",
    "Create a function that takes three parameters where:\n",
    "•\tx is the start of the range (inclusive).\n",
    "•\ty is the end of the range (inclusive).\n",
    "•\tn is the divisor to be checked against.\n",
    "\n",
    "Return an ordered list with numbers in the range that are divisible by the third parameter n. Return an empty list if there are no numbers that are divisible by n.\n",
    "\n",
    "Examples\n",
    "\n",
    "list_operation(1, 10, 3) ➞ [3, 6, 9]\n",
    "\n",
    "list_operation(7, 9, 2) ➞ [8]\n",
    "\n",
    "list_operation(15, 20, 7) ➞ []\n"
   ]
  },
  {
   "cell_type": "code",
   "execution_count": 1,
   "id": "ededde30",
   "metadata": {},
   "outputs": [
    {
     "name": "stdout",
     "output_type": "stream",
     "text": [
      "[3, 6, 9]\n",
      "[8]\n",
      "[]\n"
     ]
    }
   ],
   "source": [
    "def list_operation(low,high,div):\n",
    "    l = []\n",
    "    for i in range(low,high):\n",
    "        if i%div == 0:\n",
    "            l.append(i)\n",
    "    return l\n",
    "print(list_operation(1, 10, 3))\n",
    "print(list_operation(7, 9, 2) )\n",
    "print(list_operation(15, 20, 7))            "
   ]
  },
  {
   "cell_type": "markdown",
   "id": "4babaa41",
   "metadata": {},
   "source": [
    "# Question2\n",
    "Create a function that takes in two lists and returns True if the second list follows the first list by one element, and False otherwise. In other words, determine if the second list is the first list shifted to the right by 1.\n",
    "\n",
    "Examples\n",
    "\n",
    "simon_says([1, 2], [5, 1]) ➞ True\n",
    "\n",
    "simon_says([1, 2], [5, 5]) ➞ False\n",
    "\n",
    "simon_says([1, 2, 3, 4, 5], [0, 1, 2, 3, 4]) ➞ True\n",
    "\n",
    "simon_says([1, 2, 3, 4, 5], [5, 5, 1, 2, 3]) ➞ False\n",
    "\n",
    "\n",
    "Notes\n",
    "\n",
    "•\tBoth input lists will be of the same length, and will have a minimum length of 2.\n",
    "\n",
    "•\tThe values of the 0-indexed element in the second list and the n-1th indexed element in the first list do not matter.\n"
   ]
  },
  {
   "cell_type": "code",
   "execution_count": 4,
   "id": "c0827d11",
   "metadata": {},
   "outputs": [
    {
     "name": "stdout",
     "output_type": "stream",
     "text": [
      "True\n",
      "False\n",
      "True\n",
      "False\n"
     ]
    }
   ],
   "source": [
    "def simon_says(l1,l2):\n",
    "    count = 0\n",
    "    for i in range(1,len(l1)):\n",
    "        if l1[i-1] == l2[i]:\n",
    "            continue\n",
    "        else:\n",
    "            count = count + 1\n",
    "            break\n",
    "    if count == 0:\n",
    "        return True\n",
    "    else:\n",
    "        return False\n",
    "\n",
    "print(simon_says([1, 2], [5, 1]))\n",
    "print(simon_says([1, 2], [5, 5]))\n",
    "print(simon_says([1, 2, 3, 4, 5], [0, 1, 2, 3, 4]))\n",
    "print(simon_says([1, 2, 3, 4, 5], [5, 5, 1, 2, 3]))"
   ]
  },
  {
   "cell_type": "markdown",
   "id": "dbf453f2",
   "metadata": {},
   "source": [
    "# Question3\n",
    "\n",
    "A group of friends have decided to start a secret society. The name will be the first letter of each of their names, sorted in alphabetical order.\n",
    "\n",
    "Create a function that takes in a list of names and returns the name of the secret society.\n",
    "\n",
    "Examples\n",
    "\n",
    "society_name([\"Adam\", \"Sarah\", \"Malcolm\"]) ➞ \"AMS\"\n",
    "\n",
    "society_name([\"Harry\", \"Newt\", \"Luna\", \"Cho\"]) ➞ \"CHLN\"\n",
    "\n",
    "society_name([\"Phoebe\", \"Chandler\", \"Rachel\", \"Ross\", \"Monica\", \"Joey\"])\n"
   ]
  },
  {
   "cell_type": "code",
   "execution_count": 6,
   "id": "787f35d5",
   "metadata": {},
   "outputs": [
    {
     "name": "stdout",
     "output_type": "stream",
     "text": [
      "AMS\n",
      "CHLN\n",
      "CJMPRR\n"
     ]
    }
   ],
   "source": [
    "def society_name(l1):\n",
    "    l = []\n",
    "    for i in l1:\n",
    "        l.append(i[0])\n",
    "    l.sort()\n",
    "    return \"\".join(l)\n",
    "\n",
    "print(society_name([\"Adam\", \"Sarah\", \"Malcolm\"]))\n",
    "print(society_name([\"Harry\", \"Newt\", \"Luna\", \"Cho\"]))\n",
    "print(society_name([\"Phoebe\", \"Chandler\", \"Rachel\", \"Ross\", \"Monica\", \"Joey\"]))"
   ]
  },
  {
   "cell_type": "markdown",
   "id": "9aa74df0",
   "metadata": {},
   "source": [
    "# Question4\n",
    "\n",
    "An isogram is a word that has no duplicate letters. Create a function that takes a string and returns either True or False depending on whether or not it's an \"isogram\".\n",
    "\n",
    "Examples\n",
    "\n",
    "is_isogram(\"Algorism\") ➞ True\n",
    "\n",
    "is_isogram(\"PasSword\") ➞ False\n",
    "\n",
    "Not case sensitive.\n",
    "\n",
    "is_isogram(\"Consecutive\") ➞ False\n",
    "\n",
    "Notes\n",
    "\n",
    "•\tIgnore letter case (should not be case sensitive).\n",
    "\n",
    "•\tAll test cases contain valid one word strings.\n"
   ]
  },
  {
   "cell_type": "code",
   "execution_count": 38,
   "id": "d35e5b78",
   "metadata": {},
   "outputs": [
    {
     "name": "stdout",
     "output_type": "stream",
     "text": [
      "True\n",
      "False\n",
      "False\n"
     ]
    }
   ],
   "source": [
    "def is_isogram(s):\n",
    "    st = s.lower()\n",
    "    sets = list(set(st))\n",
    "    sets.sort()\n",
    "    lists = list(st)\n",
    "    lists.sort()\n",
    "    if sets == lists:\n",
    "        return True\n",
    "    else:\n",
    "        return False\n",
    "    \n",
    "print(is_isogram(\"Algorism\"))\n",
    "print(is_isogram(\"PasSword\"))\n",
    "print(is_isogram(\"Consecutive\"))"
   ]
  },
  {
   "cell_type": "markdown",
   "id": "486a1544",
   "metadata": {},
   "source": [
    "# Question5\n",
    "Create a function that takes a string and returns True or False, depending on whether the characters are in order or not.\n",
    "\n",
    "Examples\n",
    "\n",
    "is_in_order(\"abc\") ➞ True\n",
    "\n",
    "is_in_order(\"edabit\") ➞ False\n",
    "\n",
    "is_in_order(\"123\") ➞ True\n",
    "\n",
    "is_in_order(\"xyzz\") ➞ True\n",
    "\n",
    "Notes\n",
    "\n",
    "You don't have to handle empty strings\n"
   ]
  },
  {
   "cell_type": "code",
   "execution_count": 42,
   "id": "6ab29008",
   "metadata": {},
   "outputs": [
    {
     "name": "stdout",
     "output_type": "stream",
     "text": [
      "True\n",
      "False\n",
      "True\n",
      "True\n"
     ]
    }
   ],
   "source": [
    "def is_in_order(s):\n",
    "    sets = list(s)\n",
    "    lists = list(s)\n",
    "    lists.sort()\n",
    "    if sets == lists:\n",
    "        return True\n",
    "    else:\n",
    "        return False\n",
    "\n",
    "print(is_in_order(\"abc\"))\n",
    "print(is_in_order(\"edabit\"))\n",
    "print(is_in_order(\"123\"))\n",
    "print(is_in_order(\"xyzz\"))"
   ]
  }
 ],
 "metadata": {
  "kernelspec": {
   "display_name": "Python 3 (ipykernel)",
   "language": "python",
   "name": "python3"
  },
  "language_info": {
   "codemirror_mode": {
    "name": "ipython",
    "version": 3
   },
   "file_extension": ".py",
   "mimetype": "text/x-python",
   "name": "python",
   "nbconvert_exporter": "python",
   "pygments_lexer": "ipython3",
   "version": "3.9.12"
  }
 },
 "nbformat": 4,
 "nbformat_minor": 5
}
