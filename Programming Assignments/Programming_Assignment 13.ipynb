{
 "cells": [
  {
   "cell_type": "markdown",
   "id": "704025b6",
   "metadata": {},
   "source": [
    "# Programming_Assignment 13"
   ]
  },
  {
   "cell_type": "markdown",
   "id": "e7f871d2",
   "metadata": {},
   "source": [
    "# Question 1:\n",
    "\n",
    "Write a program that calculates and prints the value according to the given formula:\n",
    "\n",
    "Q = Square root of [(2 * C * D)/H]\n",
    "\n",
    "Following are the fixed values of C and H:\n",
    "\n",
    "C is 50. H is 30.\n",
    "\n",
    "D is the variable whose values should be input to your program in a comma-separated sequence.\n",
    "\n",
    "Example\n",
    "\n",
    "Let us assume the following comma separated input sequence is given to the program:\n",
    "\n",
    "100,150,180\n",
    "\n",
    "The output of the program should be:\n",
    "\n",
    "18,22,24\n"
   ]
  },
  {
   "cell_type": "code",
   "execution_count": 9,
   "id": "164090de",
   "metadata": {},
   "outputs": [
    {
     "name": "stdout",
     "output_type": "stream",
     "text": [
      "Provide comma seperatred inputs to be calculated100,150,180\n",
      "['100', '150', '180']\n",
      "18\n",
      "22\n",
      "24\n"
     ]
    }
   ],
   "source": [
    "import math\n",
    "string = input(\"Provide comma seperatred inputs to be calculated\")\n",
    "C = 50\n",
    "H = 30\n",
    "D = string.split(\",\")\n",
    "print(D)\n",
    "\n",
    "for x in D:\n",
    "    q = math.sqrt((2*C*int(x))/H)\n",
    "    print(int(q))"
   ]
  },
  {
   "cell_type": "markdown",
   "id": "e7b3ed67",
   "metadata": {},
   "source": [
    "# Question 2:\n",
    "\n",
    "Write a program which takes 2 digits, X,Y as input and generates a 2-dimensional array. The element value in the i-th row and j-th column of the array should be i*j.\n",
    "\n",
    "Note: i=0,1.., X-1; j=0,1,¡¬Y-1.\n",
    "\n",
    "Example\n",
    "\n",
    "Suppose the following inputs are given to the program:\n",
    "\n",
    "3,5\n",
    "\n",
    "Then, the output of the program should be:\n",
    "\n",
    "[[0, 0, 0, 0, 0], [0, 1, 2, 3, 4], [0, 2, 4, 6, 8]] \n"
   ]
  },
  {
   "cell_type": "code",
   "execution_count": 17,
   "id": "490a057a",
   "metadata": {},
   "outputs": [
    {
     "name": "stdout",
     "output_type": "stream",
     "text": [
      "Input Rows:3\n",
      "Input Collumns:5\n",
      "[0, 0, 0, 0, 0]\n",
      "[0, 1, 2, 3, 4]\n",
      "[0, 2, 4, 6, 8]\n"
     ]
    }
   ],
   "source": [
    "rows = int(input(\"Input Rows:\"))\n",
    "cols = int(input(\"Input Collumns:\"))\n",
    "\n",
    "matrix = []\n",
    "\n",
    "for i in range(0,rows):\n",
    "    l = []\n",
    "    for j in range(0,cols):\n",
    "        l.append(i*j)\n",
    "    matrix.append(l)\n",
    "\n",
    "for x in matrix:\n",
    "    print(x)"
   ]
  },
  {
   "cell_type": "markdown",
   "id": "1712560c",
   "metadata": {},
   "source": [
    "# Question 3:\n",
    "\n",
    "Write a program that accepts a comma separated sequence of words as input and prints the words in a comma-separated sequence after sorting them alphabetically.\n",
    "\n",
    "Suppose the following input is supplied to the program:\n",
    "\n",
    "without,hello,bag,world\n",
    "\n",
    "Then, the output should be:\n",
    "\n",
    "bag,hello,without,world\n"
   ]
  },
  {
   "cell_type": "code",
   "execution_count": 6,
   "id": "d35e03f3",
   "metadata": {},
   "outputs": [
    {
     "name": "stdout",
     "output_type": "stream",
     "text": [
      "Input comma seperated String to be sorted:without,hello,bag,world\n",
      "Sorted String: bag,hello,without,world\n"
     ]
    }
   ],
   "source": [
    "string = input(\"Input comma seperated String to be sorted:\")\n",
    "l = string.split(\",\")\n",
    "l.sort()\n",
    "string = \",\".join(l)\n",
    "print(\"Sorted String:\",string)"
   ]
  },
  {
   "cell_type": "markdown",
   "id": "3ddff260",
   "metadata": {},
   "source": [
    "# Question 4:\n",
    "\n",
    "Write a program that accepts a sequence of whitespace separated words as input and prints the words after removing all duplicate words and sorting them alphanumerically.\n",
    "\n",
    "Suppose the following input is supplied to the program:\n",
    "\n",
    "hello world and practice makes perfect and hello world again\n",
    "\n",
    "Then, the output should be:\n",
    "\n",
    "again and hello makes perfect practice world\n"
   ]
  },
  {
   "cell_type": "code",
   "execution_count": 2,
   "id": "ebdbe456",
   "metadata": {},
   "outputs": [
    {
     "name": "stdout",
     "output_type": "stream",
     "text": [
      "Input comma seperated String to be sorted:hello world and practice makes perfect and hello world again\n",
      "Sorted String: again and hello makes perfect practice world\n"
     ]
    }
   ],
   "source": [
    "string = input(\"Input comma seperated String to be sorted:\")\n",
    "l = string.split()\n",
    "unique = list(set(l))\n",
    "unique.sort()\n",
    "string = \" \".join(unique)\n",
    "print(\"Sorted String:\",string)"
   ]
  },
  {
   "cell_type": "markdown",
   "id": "d0f3b56d",
   "metadata": {},
   "source": [
    "# Question 5:\n",
    "Write a program that accepts a sentence and calculate the number of letters and digits.\n",
    "\n",
    "Suppose the following input is supplied to the program:\n",
    "\n",
    "hello world! 123\n",
    "\n",
    "Then, the output should be:\n",
    "\n",
    "LETTERS 10\n",
    "\n",
    "DIGITS 3\n"
   ]
  },
  {
   "cell_type": "code",
   "execution_count": 7,
   "id": "d12c3c57",
   "metadata": {},
   "outputs": [
    {
     "name": "stdout",
     "output_type": "stream",
     "text": [
      "Input String:hello world! 123\n",
      "Letters: 10\n",
      "Digits: 3\n"
     ]
    }
   ],
   "source": [
    "string = input(\"Input String:\")\n",
    "num = 0\n",
    "alpha = 0\n",
    "for x in range(0,len(string)):\n",
    "    if string[x].isnumeric():\n",
    "        num = num + 1\n",
    "    elif string[x].isalpha():\n",
    "        alpha = alpha + 1\n",
    "    else:\n",
    "        continue\n",
    "        \n",
    "print(\"Letters:\",alpha )\n",
    "print(\"Digits:\",num)"
   ]
  },
  {
   "cell_type": "markdown",
   "id": "74239c78",
   "metadata": {},
   "source": [
    "# Question 6:\n",
    "A website requires the users to input username and password to register. Write a program to check the validity of password input by users.\n",
    "\n",
    "Following are the criteria for checking the password:\n",
    "\n",
    "1. At least 1 letter between [a-z]\n",
    "\n",
    "2. At least 1 number between [0-9]\n",
    "\n",
    "1. At least 1 letter between [A-Z]\n",
    "\n",
    "3. At least 1 character from [$#@]\n",
    "\n",
    "4. Minimum length of transaction password: 6\n",
    "\n",
    "5. Maximum length of transaction password: 12\n",
    "\n",
    "Your program should accept a sequence of comma separated passwords and will check them according to the above criteria. Passwords that match the criteria are to be printed, each separated by a comma.\n",
    "\n",
    "Example\n",
    "\n",
    "If the following passwords are given as input to the program:\n",
    "\n",
    "ABd1234@1,a F1#,2w3E*,2We3345\n",
    "\n",
    "Then, the output of the program should be:\n",
    "\n",
    "ABd1234@1\n"
   ]
  },
  {
   "cell_type": "code",
   "execution_count": 5,
   "id": "761ca776",
   "metadata": {},
   "outputs": [
    {
     "name": "stdout",
     "output_type": "stream",
     "text": [
      "Input String:ABd1234@1,a F1#,2w3E*,2We3345\n",
      "Valid Passwords: ABd1234@1\n"
     ]
    }
   ],
   "source": [
    "import re\n",
    "import string\n",
    "\n",
    "strings = input(\"Input String:\")\n",
    "l = strings.split(\",\")\n",
    "\n",
    "\n",
    "valid = []\n",
    "\n",
    "for x in l:\n",
    "    low = up = num = char = 0\n",
    "    \n",
    "    if(len(x)<6):\n",
    "        continue\n",
    "    elif(len(x)>12):\n",
    "        continue\n",
    "        \n",
    "    for i in x:\n",
    "        if i.isupper():\n",
    "            up = up + 1\n",
    "            continue\n",
    "        \n",
    "        if i.islower():\n",
    "            low = low + 1\n",
    "            \n",
    "            \n",
    "        if i.isnumeric():\n",
    "            num = num + 1\n",
    "        \n",
    "        if not i.isalnum():\n",
    "            char = char + 1\n",
    "           \n",
    "    if up != 0 and low != 0 and num != 0 and char != 0:\n",
    "        valid.append(x)\n",
    "        \n",
    "valid_strings = \",\".join(valid)\n",
    "print(\"Valid Passwords:\",valid_strings)\n",
    "            \n",
    "            "
   ]
  },
  {
   "cell_type": "code",
   "execution_count": null,
   "id": "468707a0",
   "metadata": {},
   "outputs": [],
   "source": []
  },
  {
   "cell_type": "code",
   "execution_count": null,
   "id": "3d51f5f1",
   "metadata": {},
   "outputs": [],
   "source": []
  },
  {
   "cell_type": "code",
   "execution_count": null,
   "id": "6eb44522",
   "metadata": {},
   "outputs": [],
   "source": []
  },
  {
   "cell_type": "code",
   "execution_count": null,
   "id": "bc6a35fa",
   "metadata": {},
   "outputs": [],
   "source": []
  }
 ],
 "metadata": {
  "kernelspec": {
   "display_name": "Python 3 (ipykernel)",
   "language": "python",
   "name": "python3"
  },
  "language_info": {
   "codemirror_mode": {
    "name": "ipython",
    "version": 3
   },
   "file_extension": ".py",
   "mimetype": "text/x-python",
   "name": "python",
   "nbconvert_exporter": "python",
   "pygments_lexer": "ipython3",
   "version": "3.9.12"
  }
 },
 "nbformat": 4,
 "nbformat_minor": 5
}
