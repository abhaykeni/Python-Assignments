{
 "cells": [
  {
   "cell_type": "markdown",
   "id": "6a8882a7",
   "metadata": {},
   "source": [
    "# Programming_Assignment 8"
   ]
  },
  {
   "cell_type": "markdown",
   "id": "d5a00d88",
   "metadata": {},
   "source": [
    "1.\tWrite a Python Program to Add Two Matrices?\n",
    "2.\tWrite a Python Program to Multiply Two Matrices?\n",
    "3.\tWrite a Python Program to Transpose a Matrix?\n",
    "4.\tWrite a Python Program to Sort Words in Alphabetic Order?\n",
    "5.\tWrite a Python Program to Remove Punctuation From a String?"
   ]
  },
  {
   "cell_type": "code",
   "execution_count": 7,
   "id": "55d440b1",
   "metadata": {},
   "outputs": [
    {
     "name": "stdout",
     "output_type": "stream",
     "text": [
      "[7, 9, 11, 13, 5, 7, 9, 11, 13, 5]\n",
      "[7, 9, 11, 13, 5, 7, 9, 11, 13, 5]\n"
     ]
    }
   ],
   "source": [
    "#Solution 1\n",
    "\n",
    "l1 = [[1,2,3,4,5],\n",
    "      [1,2,3,4,5]]\n",
    "l2 = [[6,7,8,9,0],\n",
    "      [6,7,8,9,0]]\n",
    "x = []\n",
    "matrix = []\n",
    "for i in range(0,len(l1)):\n",
    "    for j in range(0,len(l1[1])):\n",
    "        x.append(l1[i][j] + l2[i][j])\n",
    "    matrix.append(x)\n",
    "    \n",
    "for r in matrix:\n",
    "    print(r)"
   ]
  },
  {
   "cell_type": "code",
   "execution_count": 13,
   "id": "75557c24",
   "metadata": {},
   "outputs": [
    {
     "name": "stdout",
     "output_type": "stream",
     "text": [
      "[114, 160, 60, 27]\n",
      "[74, 97, 73, 14]\n",
      "[119, 157, 112, 23]\n"
     ]
    }
   ],
   "source": [
    "# Solution 2\n",
    "\n",
    "# 3x3 matrix\n",
    "X = [[12,7,3],\n",
    "    [4 ,5,6],\n",
    "    [7 ,8,9]]\n",
    "# 3x4 matrix\n",
    "Y = [[5,8,1,2],\n",
    "    [6,7,3,0],\n",
    "    [4,5,9,1]]\n",
    "# result is 3x4\n",
    "result = [[0,0,0,0],\n",
    "         [0,0,0,0],\n",
    "         [0,0,0,0]]\n",
    "\n",
    "# iterate through rows of X\n",
    "for i in range(len(X)):\n",
    "   # iterate through columns of Y\n",
    "   for j in range(len(Y[0])):\n",
    "       # iterate through rows of Y\n",
    "       for k in range(len(Y)):\n",
    "            result[i][j] += X[i][k] * Y[k][j]\n",
    "\n",
    "for r in result:\n",
    "    print(r)"
   ]
  },
  {
   "cell_type": "code",
   "execution_count": 9,
   "id": "3291bf35",
   "metadata": {},
   "outputs": [
    {
     "name": "stdout",
     "output_type": "stream",
     "text": [
      "[12, 4, 7]\n",
      "[7, 5, 8]\n",
      "[3, 6, 9]\n"
     ]
    }
   ],
   "source": [
    "#Solution 3\n",
    "\n",
    "l1 = [[12,7,3],\n",
    "    [4 ,5,6],\n",
    "    [7 ,8,9]]\n",
    "\n",
    "result = [[0,0,0],\n",
    "         [0,0,0],\n",
    "         [0,0,0]]\n",
    "\n",
    "for i in range(0,len(l1)):\n",
    "    for j in range(0,len(l1[1])):\n",
    "        result[j][i] = l1[i][j]\n",
    "for r in result:\n",
    "    print(r)"
   ]
  },
  {
   "cell_type": "code",
   "execution_count": 17,
   "id": "453a9d01",
   "metadata": {},
   "outputs": [
    {
     "name": "stdout",
     "output_type": "stream",
     "text": [
      "Unsorted List\n",
      "['Write', 'a', 'Python', 'Program', 'to', 'Sort', 'Words', 'in', 'Alphabetic', 'Order']\n",
      "Sorted List\n",
      "['Alphabetic', 'Order', 'Program', 'Python', 'Sort', 'Words', 'Write', 'a', 'in', 'to']\n"
     ]
    }
   ],
   "source": [
    "#Solution 4\n",
    "string = \"Write a Python Program to Sort Words in Alphabetic Order\"\n",
    "l = string.split()\n",
    "print(\"Unsorted List\")\n",
    "print(l)\n",
    "l.sort()\n",
    "print(\"Sorted List\")\n",
    "print(l)"
   ]
  },
  {
   "cell_type": "code",
   "execution_count": 25,
   "id": "45d61a80",
   "metadata": {},
   "outputs": [
    {
     "data": {
      "text/plain": [
       "'Write a Python Program to Remove Punctuation From a String'"
      ]
     },
     "execution_count": 25,
     "metadata": {},
     "output_type": "execute_result"
    }
   ],
   "source": [
    "#Solution 5\n",
    "string = \"Write a Python Program, to Remove Punctuation From a String?\"\n",
    "l = []\n",
    "for i in range(0,len(string)):\n",
    "    if(string[i].isalnum() or string[i]== \" \"):\n",
    "        l.append(string[i])\n",
    "\"\".join(l)"
   ]
  },
  {
   "cell_type": "code",
   "execution_count": null,
   "id": "7238b262",
   "metadata": {},
   "outputs": [],
   "source": []
  },
  {
   "cell_type": "code",
   "execution_count": null,
   "id": "324e59a6",
   "metadata": {},
   "outputs": [],
   "source": []
  }
 ],
 "metadata": {
  "kernelspec": {
   "display_name": "Python 3 (ipykernel)",
   "language": "python",
   "name": "python3"
  },
  "language_info": {
   "codemirror_mode": {
    "name": "ipython",
    "version": 3
   },
   "file_extension": ".py",
   "mimetype": "text/x-python",
   "name": "python",
   "nbconvert_exporter": "python",
   "pygments_lexer": "ipython3",
   "version": "3.9.12"
  }
 },
 "nbformat": 4,
 "nbformat_minor": 5
}
