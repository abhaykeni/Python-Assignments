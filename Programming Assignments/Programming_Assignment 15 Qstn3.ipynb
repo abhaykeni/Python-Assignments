{
 "cells": [
  {
   "cell_type": "markdown",
   "id": "3f974fb0",
   "metadata": {},
   "source": [
    "# Programming_Assignment 15"
   ]
  },
  {
   "cell_type": "markdown",
   "id": "b769d55a",
   "metadata": {},
   "source": [
    "# Question 1:\n",
    "Please write a program using generator to print the numbers which can be divisible by 5 and 7 between 0 and n in comma separated form while n is input by console.\n",
    "Example:\n",
    "If the following n is given as input to the program:\n",
    "100\n",
    "Then, the output of the program should be:\n",
    "0,35,70\n"
   ]
  },
  {
   "cell_type": "code",
   "execution_count": 7,
   "id": "20735b01",
   "metadata": {},
   "outputs": [
    {
     "name": "stdout",
     "output_type": "stream",
     "text": [
      "Enter Range:100\n",
      "0,35,70\n"
     ]
    }
   ],
   "source": [
    "high = int(input(\"Enter Range:\"))\n",
    "l = []\n",
    "for i in range(0,high):\n",
    "    if i%7 == 0 and i%5==0:\n",
    "        l.append(str(i))\n",
    "lists = \",\".join(l)\n",
    "print(lists)"
   ]
  },
  {
   "cell_type": "markdown",
   "id": "39211422",
   "metadata": {},
   "source": [
    "# Question 2:\n",
    "Please write a program using generator to print the even numbers between 0 and n in comma separated form while n is input by console.\n",
    "Example:\n",
    "\n",
    "If the following n is given as input to the program:\n",
    "10\n",
    "\n",
    "Then, the output of the program should be:\n",
    "\n",
    "0,2,4,6,8,10\n"
   ]
  },
  {
   "cell_type": "code",
   "execution_count": 9,
   "id": "3c944745",
   "metadata": {},
   "outputs": [
    {
     "name": "stdout",
     "output_type": "stream",
     "text": [
      "Enter Range:10\n",
      "0,2,4,6,8,10\n"
     ]
    }
   ],
   "source": [
    "high = int(input(\"Enter Range:\"))\n",
    "l = []\n",
    "for i in range(0,high+1):\n",
    "    if i%2 == 0:\n",
    "        l.append(str(i))\n",
    "lists = \",\".join(l)\n",
    "print(lists)"
   ]
  },
  {
   "cell_type": "markdown",
   "id": "124916e2",
   "metadata": {},
   "source": [
    "# Question 3:\n",
    "The Fibonacci Sequence is computed based on the following formula:\n",
    "\n",
    "f(n)=0 if n=0\n",
    "\n",
    "f(n)=1 if n=1\n",
    "\n",
    "f(n)=f(n-1)+f(n-2) if n>1\n",
    "\n",
    "Please write a program using list comprehension to print the Fibonacci Sequence in comma separated form with a given n input by console.\n",
    "\n",
    "Example:\n",
    "\n",
    "If the following n is given as input to the program:\n",
    "7\n",
    "\n",
    "Then, the output of the program should be:\n",
    "0,1,1,2,3,5,8,13\n"
   ]
  },
  {
   "cell_type": "code",
   "execution_count": 31,
   "id": "fe92371f",
   "metadata": {},
   "outputs": [
    {
     "ename": "IndexError",
     "evalue": "list index out of range",
     "output_type": "error",
     "traceback": [
      "\u001b[1;31m---------------------------------------------------------------------------\u001b[0m",
      "\u001b[1;31mIndexError\u001b[0m                                Traceback (most recent call last)",
      "Input \u001b[1;32mIn [31]\u001b[0m, in \u001b[0;36m<cell line: 4>\u001b[1;34m()\u001b[0m\n\u001b[0;32m      2\u001b[0m series\u001b[38;5;241m.\u001b[39mappend(\u001b[38;5;241m0\u001b[39m)\n\u001b[0;32m      3\u001b[0m series\u001b[38;5;241m.\u001b[39mappend(\u001b[38;5;241m1\u001b[39m)\n\u001b[1;32m----> 4\u001b[0m [series[k\u001b[38;5;241m-\u001b[39m\u001b[38;5;241m1\u001b[39m]\u001b[38;5;241m+\u001b[39mseries[k\u001b[38;5;241m-\u001b[39m\u001b[38;5;241m2\u001b[39m] \u001b[38;5;28;01mfor\u001b[39;00m k \u001b[38;5;129;01min\u001b[39;00m \u001b[38;5;28mrange\u001b[39m(\u001b[38;5;241m2\u001b[39m,\u001b[38;5;241m5\u001b[39m)]\n",
      "Input \u001b[1;32mIn [31]\u001b[0m, in \u001b[0;36m<listcomp>\u001b[1;34m(.0)\u001b[0m\n\u001b[0;32m      2\u001b[0m series\u001b[38;5;241m.\u001b[39mappend(\u001b[38;5;241m0\u001b[39m)\n\u001b[0;32m      3\u001b[0m series\u001b[38;5;241m.\u001b[39mappend(\u001b[38;5;241m1\u001b[39m)\n\u001b[1;32m----> 4\u001b[0m [\u001b[43mseries\u001b[49m\u001b[43m[\u001b[49m\u001b[43mk\u001b[49m\u001b[38;5;241;43m-\u001b[39;49m\u001b[38;5;241;43m1\u001b[39;49m\u001b[43m]\u001b[49m\u001b[38;5;241m+\u001b[39mseries[k\u001b[38;5;241m-\u001b[39m\u001b[38;5;241m2\u001b[39m] \u001b[38;5;28;01mfor\u001b[39;00m k \u001b[38;5;129;01min\u001b[39;00m \u001b[38;5;28mrange\u001b[39m(\u001b[38;5;241m2\u001b[39m,\u001b[38;5;241m5\u001b[39m)]\n",
      "\u001b[1;31mIndexError\u001b[0m: list index out of range"
     ]
    }
   ],
   "source": [
    "series=[]\n",
    "series.append(0)\n",
    "series.append(1)\n",
    "[series[k-1]+series[k-2] for k in range(2,5)]"
   ]
  },
  {
   "cell_type": "markdown",
   "id": "18f44ee1",
   "metadata": {},
   "source": [
    "# Question 4:\n",
    "Assuming that we have some email addresses in the \"username@companyname.com\" format, please write program to print the user name of a given email address. Both user names and company names are composed of letters only.\n",
    "\n",
    "Example:\n",
    "\n",
    "If the following email address is given as input to the program:\n",
    "\n",
    "john@google.com\n",
    "\n",
    "Then, the output of the program should be:\n",
    "\n",
    "john\n"
   ]
  },
  {
   "cell_type": "code",
   "execution_count": 1,
   "id": "301765ae",
   "metadata": {},
   "outputs": [
    {
     "name": "stdout",
     "output_type": "stream",
     "text": [
      "Email:john@google.com\n",
      "Name: john\n",
      "Company: google\n"
     ]
    }
   ],
   "source": [
    "strings = input(\"Email:\")\n",
    "name = strings.split(\"@\")\n",
    "company_list = name[1]\n",
    "company = company_list.split(\".\")\n",
    "\n",
    "print(\"Name:\",name[0])\n",
    "print(\"Company:\",company[0])\n"
   ]
  },
  {
   "cell_type": "markdown",
   "id": "71d5ce8d",
   "metadata": {},
   "source": [
    "# Question 5:\n",
    "\n",
    "Define a class named Shape and its subclass Square. The Square class has an init function which takes a length as argument. Both classes have a area function which can print the area of the shape where Shape's area is 0 by default\n"
   ]
  },
  {
   "cell_type": "code",
   "execution_count": 5,
   "id": "4cb47da3",
   "metadata": {},
   "outputs": [
    {
     "name": "stdout",
     "output_type": "stream",
     "text": [
      "Area: 0\n",
      "Area: 25\n"
     ]
    }
   ],
   "source": [
    "class Shape:\n",
    "    \n",
    "    def area(self):\n",
    "        area = 0\n",
    "        print(\"Area:\",area)\n",
    "    \n",
    "class Square:\n",
    "    def __init__(self,length):\n",
    "        self.length = length\n",
    "    def area(self):\n",
    "        area = self.length * self.length\n",
    "        print(\"Area:\",area)\n",
    "        \n",
    "s1 = Shape()\n",
    "sq1 = Square(5)\n",
    "s1.area()\n",
    "sq1.area()"
   ]
  },
  {
   "cell_type": "code",
   "execution_count": null,
   "id": "0c05e743",
   "metadata": {},
   "outputs": [],
   "source": []
  }
 ],
 "metadata": {
  "kernelspec": {
   "display_name": "Python 3 (ipykernel)",
   "language": "python",
   "name": "python3"
  },
  "language_info": {
   "codemirror_mode": {
    "name": "ipython",
    "version": 3
   },
   "file_extension": ".py",
   "mimetype": "text/x-python",
   "name": "python",
   "nbconvert_exporter": "python",
   "pygments_lexer": "ipython3",
   "version": "3.9.12"
  }
 },
 "nbformat": 4,
 "nbformat_minor": 5
}
