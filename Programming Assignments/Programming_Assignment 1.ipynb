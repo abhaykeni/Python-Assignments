{
 "cells": [
  {
   "cell_type": "markdown",
   "id": "c20a11bc",
   "metadata": {},
   "source": [
    "# Programming_Assignment 1 "
   ]
  },
  {
   "cell_type": "markdown",
   "id": "4b324e96",
   "metadata": {},
   "source": [
    "1.\tWrite a Python program to print \"Hello Python\"?\n",
    "2.\tWrite a Python program to do arithmetical operations addition and division.?\n",
    "3.\tWrite a Python program to find the area of a triangle?\n",
    "4.\tWrite a Python program to swap two variables?\n",
    "5.\tWrite a Python program to generate a random number?"
   ]
  },
  {
   "cell_type": "code",
   "execution_count": 1,
   "id": "59ea4604",
   "metadata": {},
   "outputs": [
    {
     "name": "stdout",
     "output_type": "stream",
     "text": [
      "Hello Python\n"
     ]
    }
   ],
   "source": [
    "# Solution: 1\n",
    "\n",
    "print(\"Hello Python\")"
   ]
  },
  {
   "cell_type": "code",
   "execution_count": 7,
   "id": "2f81a941",
   "metadata": {},
   "outputs": [
    {
     "name": "stdout",
     "output_type": "stream",
     "text": [
      "Number 1:5\n",
      "Number 2:10\n",
      "########## Result ##########\n",
      "Addition: 15\n",
      "Division: 2.0\n"
     ]
    }
   ],
   "source": [
    "# Solution 2\n",
    "a = int(input(\"Number 1:\"))\n",
    "b = int(input(\"Number 2:\"))\n",
    "print(\"#\"*10,\"Result\",\"#\"*10)\n",
    "print(\"Addition:\",a+b)\n",
    "print(\"Division:\",b/a)"
   ]
  },
  {
   "cell_type": "code",
   "execution_count": 10,
   "id": "f657df51",
   "metadata": {},
   "outputs": [
    {
     "name": "stdout",
     "output_type": "stream",
     "text": [
      "Base of triangle:10\n",
      "Height of triangle3\n",
      "########## Result ##########\n",
      "Area of the triangle: 15.0\n"
     ]
    }
   ],
   "source": [
    "#Solution 3\n",
    "base = int(input(\"Base of triangle:\"))\n",
    "height = int(input(\"Height of triangle\"))\n",
    "print(\"#\"*10,\"Result\",\"#\"*10)\n",
    "area = 0.5 * base * height\n",
    "print(\"Area of the triangle:\",area)"
   ]
  },
  {
   "cell_type": "code",
   "execution_count": 11,
   "id": "97e88c41",
   "metadata": {},
   "outputs": [
    {
     "name": "stdout",
     "output_type": "stream",
     "text": [
      "Variable 1:3\n",
      "Variable 2:7\n",
      "########## Result ##########\n",
      "Variable 1 : 7 Variable 2: 3\n"
     ]
    }
   ],
   "source": [
    "#Solution 4\n",
    "\n",
    "a = input(\"Variable 1:\")\n",
    "b = input(\"Variable 2:\")\n",
    "print(\"#\"*10,\"Result\",\"#\"*10)\n",
    "c = b\n",
    "b = a\n",
    "a = c\n",
    "print \n",
    "print(\"Variable 1 :\", a , \"Variable 2:\", b)"
   ]
  },
  {
   "cell_type": "code",
   "execution_count": 16,
   "id": "9158cf3b",
   "metadata": {},
   "outputs": [
    {
     "name": "stdout",
     "output_type": "stream",
     "text": [
      "Random Number Generated: 325\n"
     ]
    }
   ],
   "source": [
    "# Solution 5\n",
    "import numpy as np\n",
    "print(\"Random Number Generated:\",np.random.randint(1000))\n"
   ]
  },
  {
   "cell_type": "code",
   "execution_count": null,
   "id": "6055430d",
   "metadata": {},
   "outputs": [],
   "source": []
  }
 ],
 "metadata": {
  "kernelspec": {
   "display_name": "Python 3 (ipykernel)",
   "language": "python",
   "name": "python3"
  },
  "language_info": {
   "codemirror_mode": {
    "name": "ipython",
    "version": 3
   },
   "file_extension": ".py",
   "mimetype": "text/x-python",
   "name": "python",
   "nbconvert_exporter": "python",
   "pygments_lexer": "ipython3",
   "version": "3.9.12"
  }
 },
 "nbformat": 4,
 "nbformat_minor": 5
}
