{
 "cells": [
  {
   "cell_type": "markdown",
   "id": "fafe9716",
   "metadata": {},
   "source": [
    "# Programming_Assignment 7"
   ]
  },
  {
   "cell_type": "markdown",
   "id": "e981e124",
   "metadata": {},
   "source": [
    "1.\tWrite a Python Program to find sum of array?\n",
    "2.\tWrite a Python Program to find largest element in an array?\n",
    "3.\tWrite a Python Program for array rotation?\n",
    "4.\tWrite a Python Program to Split the array and add the first part to the end?\n",
    "5.\tWrite a Python Program to check if given array is Monotonic?"
   ]
  },
  {
   "cell_type": "code",
   "execution_count": 10,
   "id": "ee8031ec",
   "metadata": {},
   "outputs": [
    {
     "name": "stdout",
     "output_type": "stream",
     "text": [
      "Sum of array: 45\n"
     ]
    }
   ],
   "source": [
    "#Solution 1\n",
    "input_list = [0,1,2,3,4,5,6,7,8,9]\n",
    "sum = 0\n",
    "for i in range(0,len(input_list)):\n",
    "    sum = sum + input_list[i]\n",
    "    \n",
    "print(\"Sum of array:\",sum)    "
   ]
  },
  {
   "cell_type": "code",
   "execution_count": 11,
   "id": "5ef9a08c",
   "metadata": {},
   "outputs": [
    {
     "data": {
      "text/plain": [
       "9"
      ]
     },
     "execution_count": 11,
     "metadata": {},
     "output_type": "execute_result"
    }
   ],
   "source": [
    "#Solution 2\n",
    "max(input_list)"
   ]
  },
  {
   "cell_type": "code",
   "execution_count": 12,
   "id": "ad4fd3fa",
   "metadata": {},
   "outputs": [
    {
     "name": "stdout",
     "output_type": "stream",
     "text": [
      "[9, 8, 7, 6, 5, 4, 3, 2, 1, 0]\n"
     ]
    }
   ],
   "source": [
    "#Solution 3\n",
    "rev_list = input_list[::-1]\n",
    "print(rev_list)"
   ]
  },
  {
   "cell_type": "code",
   "execution_count": 18,
   "id": "77e8d916",
   "metadata": {},
   "outputs": [
    {
     "name": "stdout",
     "output_type": "stream",
     "text": [
      "[5, 6, 7, 8, 9, 0, 1, 2, 3, 4]\n"
     ]
    }
   ],
   "source": [
    "#Solution 4\n",
    "length = int(len(input_list)/2)\n",
    "first = input_list[:5]\n",
    "last = input_list[5:]\n",
    "new_list = last + first\n",
    "print(new_list)"
   ]
  },
  {
   "cell_type": "code",
   "execution_count": 21,
   "id": "53c9ab5b",
   "metadata": {},
   "outputs": [
    {
     "name": "stdout",
     "output_type": "stream",
     "text": [
      "List is not monotonic\n"
     ]
    }
   ],
   "source": [
    "count = 0\n",
    "input_list = [0,1,2,3,4,5,6,7,8,9,'a']\n",
    "dtype = type(input_list[0])\n",
    "for i in range(0,len(input_list)):\n",
    "    if(type(input_list[i])!=dtype):\n",
    "        count = count + 1\n",
    "        break\n",
    "if(count == 0):\n",
    "    print(\"List is monotonic\")\n",
    "else:\n",
    "    print(\"List is not monotonic\")"
   ]
  },
  {
   "cell_type": "code",
   "execution_count": null,
   "id": "5f001025",
   "metadata": {},
   "outputs": [],
   "source": []
  }
 ],
 "metadata": {
  "kernelspec": {
   "display_name": "Python 3 (ipykernel)",
   "language": "python",
   "name": "python3"
  },
  "language_info": {
   "codemirror_mode": {
    "name": "ipython",
    "version": 3
   },
   "file_extension": ".py",
   "mimetype": "text/x-python",
   "name": "python",
   "nbconvert_exporter": "python",
   "pygments_lexer": "ipython3",
   "version": "3.9.12"
  }
 },
 "nbformat": 4,
 "nbformat_minor": 5
}
