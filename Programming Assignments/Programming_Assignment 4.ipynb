{
 "cells": [
  {
   "cell_type": "markdown",
   "id": "ce87e758",
   "metadata": {},
   "source": [
    "# Programming_Assignment 4"
   ]
  },
  {
   "cell_type": "markdown",
   "id": "a08548b3",
   "metadata": {},
   "source": [
    "1.\tWrite a Python Program to Find the Factorial of a Number?\n",
    "2.\tWrite a Python Program to Display the multiplication Table?\n",
    "3.\tWrite a Python Program to Print the Fibonacci sequence?\n",
    "4.\tWrite a Python Program to Check Armstrong Number?\n",
    "5.\tWrite a Python Program to Find Armstrong Number in an Interval?\n",
    "6.\tWrite a Python Program to Find the Sum of Natural Numbers?"
   ]
  },
  {
   "cell_type": "code",
   "execution_count": 3,
   "id": "2c5c094b",
   "metadata": {},
   "outputs": [
    {
     "name": "stdout",
     "output_type": "stream",
     "text": [
      "Input number to find factorial:5\n",
      "Factorial of a number is: 120\n"
     ]
    }
   ],
   "source": [
    "#Solution 1\n",
    "num = int(input(\"Input number to find factorial:\"))\n",
    "fact = 1\n",
    "for i in range(1,num+1):\n",
    "    fact = fact * i\n",
    "print(\"Factorial of a number is:\",fact)    "
   ]
  },
  {
   "cell_type": "code",
   "execution_count": 5,
   "id": "872c11c5",
   "metadata": {},
   "outputs": [
    {
     "name": "stdout",
     "output_type": "stream",
     "text": [
      "Input Number whose multiplication to be displayed13\n",
      "13 x 1 = 13\n",
      "13 x 2 = 26\n",
      "13 x 3 = 39\n",
      "13 x 4 = 52\n",
      "13 x 5 = 65\n",
      "13 x 6 = 78\n",
      "13 x 7 = 91\n",
      "13 x 8 = 104\n",
      "13 x 9 = 117\n",
      "13 x 10 = 130\n"
     ]
    }
   ],
   "source": [
    "#Solution 2\n",
    "num = int(input(\"Input Number whose multiplication to be displayed\"))\n",
    "for i in range(1,11):\n",
    "    result =  i * num\n",
    "    print(num, \"x\", i, \"=\", result)"
   ]
  },
  {
   "cell_type": "code",
   "execution_count": 19,
   "id": "ec372312",
   "metadata": {},
   "outputs": [
    {
     "name": "stdout",
     "output_type": "stream",
     "text": [
      "Number of Fibonacci sequence to be entered:30\n",
      "0 1 1 2 3 5 8 13 21 34 55 89 144 233 377 610 987 1597 2584 4181 6765 10946 17711 28657 46368 75025 121393 196418 317811 514229 "
     ]
    }
   ],
   "source": [
    "#Solution 3\n",
    "num = int(input(\"Number of Fibonacci sequence to be entered:\"))\n",
    "count = 0\n",
    "a= 0\n",
    "b = 1\n",
    "print(a, end=\" \")\n",
    "print(b, end=\" \")\n",
    "while(count != num - 2):\n",
    "    count = count + 1\n",
    "    a,b = b,b+a\n",
    "    print(b,end=\" \")\n",
    "    \n",
    "    "
   ]
  },
  {
   "cell_type": "code",
   "execution_count": 60,
   "id": "c0fa13e7",
   "metadata": {},
   "outputs": [
    {
     "name": "stdout",
     "output_type": "stream",
     "text": [
      "Number to check if Armstrong:4679307774\n",
      "Number is armstrong\n"
     ]
    }
   ],
   "source": [
    "#Solution 4\n",
    "num = str(input(\"Number to check if Armstrong:\"))\n",
    "length = len(num)\n",
    "l = []\n",
    "arm = 0\n",
    "for i in range(0,length):\n",
    "    l.append(int(num[i]))\n",
    "\n",
    "for x in l:\n",
    "    arm = arm + pow(x,length)\n",
    "    \n",
    "if (arm == int(num)):\n",
    "    print(\"Number is armstrong\")\n",
    "else:\n",
    "    print(\"Number is not armstrong\")"
   ]
  },
  {
   "cell_type": "code",
   "execution_count": 1,
   "id": "38bd36de",
   "metadata": {},
   "outputs": [
    {
     "name": "stdout",
     "output_type": "stream",
     "text": [
      "Low Range:1\n",
      "High Range:1000\n",
      "Number is armstrong: 1\n",
      "Number is armstrong: 2\n",
      "Number is armstrong: 3\n",
      "Number is armstrong: 4\n",
      "Number is armstrong: 5\n",
      "Number is armstrong: 6\n",
      "Number is armstrong: 7\n",
      "Number is armstrong: 8\n",
      "Number is armstrong: 9\n",
      "Number is armstrong: 153\n",
      "Number is armstrong: 370\n",
      "Number is armstrong: 371\n",
      "Number is armstrong: 407\n"
     ]
    }
   ],
   "source": [
    "#Solution 5\n",
    "low = int(input(\"Low Range:\"))\n",
    "high = int(input(\"High Range:\"))\n",
    "\n",
    "for x in range(low,high):\n",
    "    x = str(x)\n",
    "    length = len(x)\n",
    "    l = []\n",
    "    arm = 0\n",
    "    for i in range(0,length):\n",
    "        l.append(int(x[i]))\n",
    "\n",
    "    for y in l:\n",
    "        arm = arm + pow(y,length)\n",
    "    \n",
    "    if (arm == int(x)):\n",
    "        print(\"Number is armstrong:\",x)\n",
    "    \n",
    "    \n"
   ]
  },
  {
   "cell_type": "code",
   "execution_count": 4,
   "id": "b4165b88",
   "metadata": {},
   "outputs": [
    {
     "name": "stdout",
     "output_type": "stream",
     "text": [
      "Limit of Sum for Natural Numbers:10\n",
      "Sum of n=10 is 55\n"
     ]
    }
   ],
   "source": [
    "#Solution 6\n",
    "num = int(input(\"Limit of Sum for Natural Numbers:\"))\n",
    "sum = 0\n",
    "for i in range(1,num+1):\n",
    "    sum += i\n",
    "    \n",
    "print(f\"Sum of n={num} is {sum}\")"
   ]
  },
  {
   "cell_type": "code",
   "execution_count": null,
   "id": "40dea6fe",
   "metadata": {},
   "outputs": [],
   "source": []
  },
  {
   "cell_type": "code",
   "execution_count": null,
   "id": "633ea473",
   "metadata": {},
   "outputs": [],
   "source": []
  }
 ],
 "metadata": {
  "kernelspec": {
   "display_name": "Python 3 (ipykernel)",
   "language": "python",
   "name": "python3"
  },
  "language_info": {
   "codemirror_mode": {
    "name": "ipython",
    "version": 3
   },
   "file_extension": ".py",
   "mimetype": "text/x-python",
   "name": "python",
   "nbconvert_exporter": "python",
   "pygments_lexer": "ipython3",
   "version": "3.9.12"
  }
 },
 "nbformat": 4,
 "nbformat_minor": 5
}
