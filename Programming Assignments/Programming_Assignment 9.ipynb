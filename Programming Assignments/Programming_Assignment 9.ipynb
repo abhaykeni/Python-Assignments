{
 "cells": [
  {
   "cell_type": "markdown",
   "id": "ebc6f05e",
   "metadata": {},
   "source": [
    "# Programming_Assignment 9"
   ]
  },
  {
   "cell_type": "markdown",
   "id": "66806f4c",
   "metadata": {},
   "source": [
    "1.\tWrite a Python program to check if the given number is a Disarium Number?\n",
    "2.\tWrite a Python program to print all disarium numbers between 1 to 100?\n",
    "3.\tWrite a Python program to check if the given number is Happy Number?\n",
    "4.\tWrite a Python program to print all happy numbers between 1 and 100?\n",
    "5.\tWrite a Python program to determine whether the given number is a Harshad Number?\n",
    "6.\tWrite a Python program to print all pronic numbers between 1 and 100?"
   ]
  },
  {
   "cell_type": "code",
   "execution_count": 16,
   "id": "8bf76fd0",
   "metadata": {},
   "outputs": [
    {
     "name": "stdout",
     "output_type": "stream",
     "text": [
      "Number to check if Disarium:175\n",
      "Number is Disarium\n"
     ]
    }
   ],
   "source": [
    "#Solution 1\n",
    "num = str(input(\"Number to check if Disarium:\"))\n",
    "length = len(num)\n",
    "l = []\n",
    "dis = 0\n",
    "for i in range(0,length):\n",
    "    l.append(int(num[i]))\n",
    "    \n",
    "for x in range(0,len(l)):\n",
    "    dis = dis + pow(int(num[x]),x+1)\n",
    "    \n",
    "if (dis == int(num)):\n",
    "    print(\"Number is Disarium\")\n",
    "else:\n",
    "    print(\"Number is not Disarium\")"
   ]
  },
  {
   "cell_type": "code",
   "execution_count": 18,
   "id": "4aa35692",
   "metadata": {},
   "outputs": [
    {
     "name": "stdout",
     "output_type": "stream",
     "text": [
      "Low Range:1\n",
      "High Range:1000\n",
      "Number is Disarium: 1\n",
      "Number is Disarium: 2\n",
      "Number is Disarium: 3\n",
      "Number is Disarium: 4\n",
      "Number is Disarium: 5\n",
      "Number is Disarium: 6\n",
      "Number is Disarium: 7\n",
      "Number is Disarium: 8\n",
      "Number is Disarium: 9\n",
      "Number is Disarium: 89\n",
      "Number is Disarium: 135\n",
      "Number is Disarium: 175\n",
      "Number is Disarium: 518\n",
      "Number is Disarium: 598\n"
     ]
    }
   ],
   "source": [
    "#Solution 2\n",
    "low = int(input(\"Low Range:\"))\n",
    "high = int(input(\"High Range:\"))\n",
    "\n",
    "for x in range(low,high):\n",
    "    x = str(x)\n",
    "    length = len(x)\n",
    "    l = []\n",
    "    dis = 0\n",
    "    for i in range(0,length):\n",
    "        l.append(int(x[i]))\n",
    "\n",
    "    for y in range(0,len(l)):\n",
    "        dis = dis + pow(int(x[y]),y+1)\n",
    "    \n",
    "    if (dis == int(x)):\n",
    "        print(\"Number is Disarium:\",x)\n",
    "    "
   ]
  },
  {
   "cell_type": "code",
   "execution_count": 5,
   "id": "7153aca2",
   "metadata": {},
   "outputs": [
    {
     "name": "stdout",
     "output_type": "stream",
     "text": [
      "Number to check if Happy:95\n",
      "Happy Number Not Found\n"
     ]
    }
   ],
   "source": [
    "#Solution 3\n",
    "num = str(input(\"Number to check if Happy:\"))\n",
    "l = []\n",
    "count = 0\n",
    "for i in range(0,len(num)):\n",
    "    l.append(int(num[i]))\n",
    "while(count<10):\n",
    "    count = count + 1\n",
    "    summ = 0 \n",
    "    for y in l:\n",
    "        summ = summ + pow(y,2)\n",
    "    if summ == 1:\n",
    "        print(\"Happy Number Found\")\n",
    "        break\n",
    "    else:\n",
    "        summ_s = str(summ)\n",
    "        l = []\n",
    "        for i in range(0,len(summ_s)):\n",
    "            l.append(int(summ_s[i]))\n",
    "if(count==10):\n",
    "    print(\"Happy Number Not Found\")"
   ]
  },
  {
   "cell_type": "code",
   "execution_count": 9,
   "id": "8141c289",
   "metadata": {},
   "outputs": [
    {
     "name": "stdout",
     "output_type": "stream",
     "text": [
      "Low Range:1\n",
      "High Range:100\n",
      "Happy Number Found: 1\n",
      "Happy Number Found: 7\n",
      "Happy Number Found: 10\n",
      "Happy Number Found: 13\n",
      "Happy Number Found: 19\n",
      "Happy Number Found: 23\n",
      "Happy Number Found: 28\n",
      "Happy Number Found: 31\n",
      "Happy Number Found: 32\n",
      "Happy Number Found: 44\n",
      "Happy Number Found: 49\n",
      "Happy Number Found: 68\n",
      "Happy Number Found: 70\n",
      "Happy Number Found: 79\n",
      "Happy Number Found: 82\n",
      "Happy Number Found: 86\n",
      "Happy Number Found: 91\n",
      "Happy Number Found: 94\n",
      "Happy Number Found: 97\n"
     ]
    }
   ],
   "source": [
    "#Solution 4\n",
    "low = int(input(\"Low Range:\"))\n",
    "high = int(input(\"High Range:\"))\n",
    "\n",
    "for x in range(low,high):\n",
    "    string = str(x)\n",
    "    l = []\n",
    "    count = 0\n",
    "    for i in range(0,len(string)):\n",
    "        l.append(int(string[i]))\n",
    "    while(count<10):\n",
    "        count = count + 1\n",
    "        summ = 0 \n",
    "        for y in l:\n",
    "            summ = summ + pow(y,2)\n",
    "        if summ == 1:\n",
    "            print(\"Happy Number Found:\",x)\n",
    "            break\n",
    "        else:\n",
    "            summ_s = str(summ)\n",
    "            l = []\n",
    "            for i in range(0,len(summ_s)):\n",
    "                l.append(int(summ_s[i]))\n",
    "    \n",
    "\n"
   ]
  },
  {
   "cell_type": "code",
   "execution_count": 14,
   "id": "538b1c6a",
   "metadata": {},
   "outputs": [
    {
     "name": "stdout",
     "output_type": "stream",
     "text": [
      "Number to check if Harshad:21\n",
      "Harshad Number Found\n"
     ]
    }
   ],
   "source": [
    "#Solution 5\n",
    "num = str(input(\"Number to check if Harshad:\"))\n",
    "l = []\n",
    "for i in range(0,len(num)):\n",
    "    l.append(int(num[i]))\n",
    "summ = 0\n",
    "for x in l:\n",
    "    summ = summ + x\n",
    "\n",
    "if(int(num)%summ == 0):\n",
    "    print(\"Harshad Number Found\")\n",
    "else:\n",
    "    print(\"Harshad Number Not Found\")\n"
   ]
  },
  {
   "cell_type": "code",
   "execution_count": 3,
   "id": "37d0eb03",
   "metadata": {},
   "outputs": [
    {
     "name": "stdout",
     "output_type": "stream",
     "text": [
      "Low Range:1\n",
      "High Range:100\n",
      "Number is pronic: 2\n",
      "Number is pronic: 6\n",
      "Number is pronic: 12\n",
      "Number is pronic: 20\n",
      "Number is pronic: 30\n",
      "Number is pronic: 42\n",
      "Number is pronic: 56\n",
      "Number is pronic: 72\n",
      "Number is pronic: 90\n"
     ]
    }
   ],
   "source": [
    "#Solution 6\n",
    "low = int(input(\"Low Range:\"))\n",
    "high = int(input(\"High Range:\"))\n",
    "\n",
    "for num in range(low,high):\n",
    "    i = 1\n",
    "    while(i!= num):\n",
    "        if(i*(i+1) == num):\n",
    "            print(\"Number is pronic:\",num)\n",
    "            break\n",
    "        else:\n",
    "            i = i + 1\n",
    "            continue\n"
   ]
  },
  {
   "cell_type": "code",
   "execution_count": null,
   "id": "a7085f19",
   "metadata": {},
   "outputs": [],
   "source": []
  }
 ],
 "metadata": {
  "kernelspec": {
   "display_name": "Python 3 (ipykernel)",
   "language": "python",
   "name": "python3"
  },
  "language_info": {
   "codemirror_mode": {
    "name": "ipython",
    "version": 3
   },
   "file_extension": ".py",
   "mimetype": "text/x-python",
   "name": "python",
   "nbconvert_exporter": "python",
   "pygments_lexer": "ipython3",
   "version": "3.9.12"
  }
 },
 "nbformat": 4,
 "nbformat_minor": 5
}
