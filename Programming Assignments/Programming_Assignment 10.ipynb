{
 "cells": [
  {
   "cell_type": "markdown",
   "id": "ef20ea5d",
   "metadata": {},
   "source": [
    "# Programming_Assignment 10"
   ]
  },
  {
   "cell_type": "markdown",
   "id": "9abd3351",
   "metadata": {},
   "source": [
    "1.\tWrite a Python program to find sum of elements in list?\n",
    "2.\tWrite a Python program to  Multiply all numbers in the list?\n",
    "3.\tWrite a Python program to find smallest number in a list?\n",
    "4.\tWrite a Python program to find largest number in a list?\n",
    "5.\tWrite a Python program to find second largest number in a list?\n",
    "6.\tWrite a Python program to find N largest elements from a list?\n",
    "7.\tWrite a Python program to print even numbers in a list?\n",
    "8.\tWrite a Python program to print odd numbers in a List?\n",
    "9.\tWrite a Python program to Remove empty List from List?\n",
    "10.\tWrite a Python program to Cloning or Copying a list?\n",
    "11.\tWrite a Python program to Count occurrences of an element in a list?\n"
   ]
  },
  {
   "cell_type": "code",
   "execution_count": 5,
   "id": "ebbe1a06",
   "metadata": {},
   "outputs": [
    {
     "name": "stdout",
     "output_type": "stream",
     "text": [
      "Sum of array: 45\n"
     ]
    }
   ],
   "source": [
    "#Solution 1\n",
    "input_list = [1,2,3,4,5,6,7,8,9]\n",
    "sum = 0\n",
    "for i in range(0,len(input_list)):\n",
    "    sum = sum + input_list[i]\n",
    "    \n",
    "print(\"Sum of array:\",sum)  "
   ]
  },
  {
   "cell_type": "code",
   "execution_count": 6,
   "id": "03872253",
   "metadata": {},
   "outputs": [
    {
     "name": "stdout",
     "output_type": "stream",
     "text": [
      "Multiplication of array: 362880\n"
     ]
    }
   ],
   "source": [
    "#Solution 2\n",
    "input_list = [1,2,3,4,5,6,7,8,9]\n",
    "mult = 1\n",
    "for i in range(0,len(input_list)):\n",
    "    mult = mult * input_list[i]\n",
    "    \n",
    "print(\"Multiplication of array:\",mult)"
   ]
  },
  {
   "cell_type": "code",
   "execution_count": 10,
   "id": "7691b84c",
   "metadata": {},
   "outputs": [
    {
     "name": "stdout",
     "output_type": "stream",
     "text": [
      "Smallest Number: 1\n"
     ]
    }
   ],
   "source": [
    "#Solution 3\n",
    "input_list = [5,4,52,7,98,44,35,12,85,1,7,10]\n",
    "input_list.sort()\n",
    "print(\"Smallest Number:\",input_list[0])"
   ]
  },
  {
   "cell_type": "code",
   "execution_count": 11,
   "id": "4df17339",
   "metadata": {},
   "outputs": [
    {
     "name": "stdout",
     "output_type": "stream",
     "text": [
      "Largest Number: 98\n"
     ]
    }
   ],
   "source": [
    "#Solution 4\n",
    "input_list = [5,4,52,7,98,44,35,12,85,1,7,10]\n",
    "input_list.sort()\n",
    "print(\"Largest Number:\",input_list[len(input_list)-1])"
   ]
  },
  {
   "cell_type": "code",
   "execution_count": 12,
   "id": "57f9ea27",
   "metadata": {},
   "outputs": [
    {
     "name": "stdout",
     "output_type": "stream",
     "text": [
      "Largest Number: 85\n"
     ]
    }
   ],
   "source": [
    "#Solution 5\n",
    "input_list = [5,4,52,7,98,44,35,12,85,1,7,10]\n",
    "input_list.sort()\n",
    "print(\"Largest Number:\",input_list[len(input_list)-2])"
   ]
  },
  {
   "cell_type": "code",
   "execution_count": 13,
   "id": "2377d7ef",
   "metadata": {},
   "outputs": [
    {
     "name": "stdout",
     "output_type": "stream",
     "text": [
      "Largest Number: 35\n"
     ]
    }
   ],
   "source": [
    "#Solution 6\n",
    "n = 5\n",
    "input_list = [5,4,52,7,98,44,35,12,85,1,7,10]\n",
    "input_list.sort()\n",
    "print(\"Largest Number:\",input_list[len(input_list)-n])"
   ]
  },
  {
   "cell_type": "code",
   "execution_count": 15,
   "id": "e10f0529",
   "metadata": {},
   "outputs": [
    {
     "name": "stdout",
     "output_type": "stream",
     "text": [
      "2 4 6 8 "
     ]
    }
   ],
   "source": [
    "#Solution 7\n",
    "input_list = [1,2,3,4,5,6,7,8,9]\n",
    "for i in input_list:\n",
    "    if i%2 == 0:\n",
    "        print(i, end=\" \")"
   ]
  },
  {
   "cell_type": "code",
   "execution_count": 17,
   "id": "c35c951a",
   "metadata": {},
   "outputs": [
    {
     "name": "stdout",
     "output_type": "stream",
     "text": [
      "1 3 5 7 9 "
     ]
    }
   ],
   "source": [
    "#Solution 8\n",
    "input_list = [1,2,3,4,5,6,7,8,9]\n",
    "for i in input_list:\n",
    "    if i%2 != 0:\n",
    "        print(i, end=\" \")"
   ]
  },
  {
   "cell_type": "code",
   "execution_count": 22,
   "id": "6f2123df",
   "metadata": {},
   "outputs": [
    {
     "name": "stdout",
     "output_type": "stream",
     "text": [
      "[1, 2, 3, 4, [1, 2, 3], 5, 6, 7]\n"
     ]
    }
   ],
   "source": [
    "#Solution 9\n",
    "input_list = [1,2,3,4,[],[1,2,3],5,6,7]\n",
    "l = []\n",
    "for i in input_list:\n",
    "    if(i):\n",
    "        l.append(i)\n",
    "print(l)\n"
   ]
  },
  {
   "cell_type": "code",
   "execution_count": 19,
   "id": "4970f6a1",
   "metadata": {},
   "outputs": [
    {
     "name": "stdout",
     "output_type": "stream",
     "text": [
      "[1, 2, 3, 4, 5, 6, 7, 8, 9]\n"
     ]
    }
   ],
   "source": [
    "#Solution 10\n",
    "input_list = [1,2,3,4,5,6,7,8,9]\n",
    "new_list = input_list[::]\n",
    "print(new_list)"
   ]
  },
  {
   "cell_type": "code",
   "execution_count": 24,
   "id": "1b447a2e",
   "metadata": {},
   "outputs": [
    {
     "name": "stdout",
     "output_type": "stream",
     "text": [
      "Number to be searched:3\n",
      "Number of occurunces: 5\n"
     ]
    }
   ],
   "source": [
    "#Soltuion 11\n",
    "input_list = [1,2,3,3,4,5,6,3,3,3,4,5,2]\n",
    "num = input(\"Number to be searched:\")\n",
    "count = 0\n",
    "for i in input_list:\n",
    "    if(i == int(num)):\n",
    "        count = count + 1\n",
    "print(\"Number of occurunces:\",count)\n",
    "    "
   ]
  },
  {
   "cell_type": "code",
   "execution_count": null,
   "id": "5a1eda17",
   "metadata": {},
   "outputs": [],
   "source": []
  }
 ],
 "metadata": {
  "kernelspec": {
   "display_name": "Python 3 (ipykernel)",
   "language": "python",
   "name": "python3"
  },
  "language_info": {
   "codemirror_mode": {
    "name": "ipython",
    "version": 3
   },
   "file_extension": ".py",
   "mimetype": "text/x-python",
   "name": "python",
   "nbconvert_exporter": "python",
   "pygments_lexer": "ipython3",
   "version": "3.9.12"
  }
 },
 "nbformat": 4,
 "nbformat_minor": 5
}
