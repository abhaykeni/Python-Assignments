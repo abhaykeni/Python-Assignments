{
 "cells": [
  {
   "cell_type": "markdown",
   "id": "e742b896",
   "metadata": {},
   "source": [
    "# Programming_Assignment 3"
   ]
  },
  {
   "cell_type": "markdown",
   "id": "d69227f2",
   "metadata": {},
   "source": [
    "1.\tWrite a Python Program to Check if a Number is Positive, Negative or Zero?\n",
    "2.\tWrite a Python Program to Check if a Number is Odd or Even?\n",
    "3.\tWrite a Python Program to Check Leap Year?\n",
    "4.\tWrite a Python Program to Check Prime Number?\n",
    "5.\tWrite a Python Program to Print all Prime Numbers in an Interval of 1-10000?\n"
   ]
  },
  {
   "cell_type": "code",
   "execution_count": 1,
   "id": "4d98f37c",
   "metadata": {},
   "outputs": [
    {
     "name": "stdout",
     "output_type": "stream",
     "text": [
      "Input a number:5\n",
      "Number is positive\n"
     ]
    }
   ],
   "source": [
    "#Solution 1\n",
    "num = int(input(\"Input a number:\"))\n",
    "if(num == 0):\n",
    "    print(\"Number is zero\")\n",
    "elif(num > 0):\n",
    "    print(\"Number is positive\")\n",
    "else:\n",
    "    print(\"Number is negative\")"
   ]
  },
  {
   "cell_type": "code",
   "execution_count": 10,
   "id": "56f22f6a",
   "metadata": {},
   "outputs": [
    {
     "name": "stdout",
     "output_type": "stream",
     "text": [
      "Input a number:1121\n",
      "Number is odd\n"
     ]
    }
   ],
   "source": [
    "#Solution 2\n",
    "num = int(input(\"Input a number:\"))\n",
    "if(num == 0):\n",
    "    print(\"Number neither even nor odd\")\n",
    "elif(num % 2 == 0):\n",
    "    print(\"Number is even\")\n",
    "else:\n",
    "    print(\"Number is odd\")"
   ]
  },
  {
   "cell_type": "code",
   "execution_count": 12,
   "id": "619e743d",
   "metadata": {},
   "outputs": [
    {
     "name": "stdout",
     "output_type": "stream",
     "text": [
      "Input a Year:2024\n",
      "Leap Year\n"
     ]
    }
   ],
   "source": [
    "#Solution 3 \n",
    "\n",
    "year = int(input(\"Input a Year:\"))\n",
    "if( year % 4 == 0):\n",
    "    print(\"Leap Year\")"
   ]
  },
  {
   "cell_type": "code",
   "execution_count": 7,
   "id": "b3a90469",
   "metadata": {},
   "outputs": [
    {
     "name": "stdout",
     "output_type": "stream",
     "text": [
      "Number to be checked if prime or not:97\n",
      "Number is Prime\n"
     ]
    }
   ],
   "source": [
    "#Solution 4\n",
    "num = int(input(\"Number to be checked if prime or not:\"))\n",
    "count = 0\n",
    "for i in range(2, num+1):\n",
    "    if(i == num):\n",
    "        count = count + 1\n",
    "        print(\"Number is Prime\")    \n",
    "    if (num % i == 0):\n",
    "        break\n",
    "if count == 0:\n",
    "    print(\"Number not prime\")\n"
   ]
  },
  {
   "cell_type": "code",
   "execution_count": 19,
   "id": "6304051a",
   "metadata": {},
   "outputs": [
    {
     "name": "stdout",
     "output_type": "stream",
     "text": [
      "2 3 5 7 11 13 17 19 23 29 31 37 41 43 47 53 59 61 67 71 73 79 83 89 97 101 103 107 109 113 127 131 137 139 149 151 157 163 167 173 179 181 191 193 197 199 211 223 227 229 233 239 241 251 257 263 269 271 277 281 283 293 307 311 313 317 331 337 347 349 353 359 367 373 379 383 389 397 401 409 419 421 431 433 439 443 449 457 461 463 467 479 487 491 499 503 509 521 523 541 547 557 563 569 571 577 587 593 599 601 607 613 617 619 631 641 643 647 653 659 661 673 677 683 691 701 709 719 727 733 739 743 751 757 761 769 773 787 797 809 811 821 823 827 829 839 853 857 859 863 877 881 883 887 907 911 919 929 937 941 947 953 967 971 977 983 991 997 "
     ]
    }
   ],
   "source": [
    "#Solution 5\n",
    "for i in range(2, 1000):\n",
    "    for x in range(2, i + 1):\n",
    "        if (i==x):\n",
    "            print(i, end=\" \")\n",
    "            break\n",
    "        if (i % x==0):\n",
    "            break"
   ]
  }
 ],
 "metadata": {
  "kernelspec": {
   "display_name": "Python 3 (ipykernel)",
   "language": "python",
   "name": "python3"
  },
  "language_info": {
   "codemirror_mode": {
    "name": "ipython",
    "version": 3
   },
   "file_extension": ".py",
   "mimetype": "text/x-python",
   "name": "python",
   "nbconvert_exporter": "python",
   "pygments_lexer": "ipython3",
   "version": "3.9.12"
  }
 },
 "nbformat": 4,
 "nbformat_minor": 5
}
